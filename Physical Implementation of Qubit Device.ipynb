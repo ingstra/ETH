{
 "cells": [
  {
   "cell_type": "markdown",
   "metadata": {},
   "source": [
    "## Physical implementation of a qubit device"
   ]
  },
  {
   "cell_type": "code",
   "execution_count": 1,
   "metadata": {},
   "outputs": [],
   "source": [
    "%matplotlib inline\n",
    "import numpy as np\n",
    "\n",
    "from qutip import *\n",
    "from qutip.qip.device import *\n",
    "from qutip.qip.operations import rx, gate_sequence_product\n",
    "from qutip.qip.circuit import QubitCircuit\n",
    "from qutip.qip.circuit_latex import _latex_compile\n",
    "\n",
    "%load_ext autoreload\n",
    "%autoreload 2"
   ]
  },
  {
   "cell_type": "markdown",
   "metadata": {},
   "source": [
    "### Circuit Setup"
   ]
  },
  {
   "cell_type": "code",
   "execution_count": 2,
   "metadata": {},
   "outputs": [],
   "source": [
    "# Number of qubits in the system\n",
    "N = 2\n",
    "\n",
    "# Input state\n",
    "input_states = [\"0\"]*N\n",
    "\n",
    "# A list of integers for the dimension of each composite system.\n",
    "dims = [2]*N\n",
    "\n",
    "# Representation of a quantum program/algorithm, maintaining a sequence of gates.\n",
    "qc = QubitCircuit(N = N, reverse_states = False)\n",
    "\n",
    "qc.add_gate(\"RX\", 0, None, -np.pi/2, r\"-\\pi/2\")"
   ]
  },
  {
   "cell_type": "code",
   "execution_count": 3,
   "metadata": {},
   "outputs": [
    {
     "data": {
      "text/latex": [
       "Quantum object: dims = [[2, 2], [2, 2]], shape = (4, 4), type = oper, isherm = False\\begin{equation*}\\left(\\begin{array}{*{11}c}0.707 & 0.0 & 0.707j & 0.0\\\\0.0 & 0.707 & 0.0 & 0.707j\\\\0.707j & 0.0 & 0.707 & 0.0\\\\0.0 & 0.707j & 0.0 & 0.707\\\\\\end{array}\\right)\\end{equation*}"
      ],
      "text/plain": [
       "Quantum object: dims = [[2, 2], [2, 2]], shape = (4, 4), type = oper, isherm = False\n",
       "Qobj data =\n",
       "[[0.70710678+0.j         0.        +0.j         0.        +0.70710678j\n",
       "  0.        +0.j        ]\n",
       " [0.        +0.j         0.70710678+0.j         0.        +0.j\n",
       "  0.        +0.70710678j]\n",
       " [0.        +0.70710678j 0.        +0.j         0.70710678+0.j\n",
       "  0.        +0.j        ]\n",
       " [0.        +0.j         0.        +0.70710678j 0.        +0.j\n",
       "  0.70710678+0.j        ]]"
      ]
     },
     "execution_count": 3,
     "metadata": {},
     "output_type": "execute_result"
    }
   ],
   "source": [
    "U_ideal = gate_sequence_product(qc.propagators())\n",
    "\n",
    "U_ideal"
   ]
  },
  {
   "cell_type": "markdown",
   "metadata": {},
   "source": [
    "### Processor\n",
    "A simulator of a quantum device based on the QuTiP solver\n",
    ":func:`qutip.mesolve`.\n",
    "It is defined by the available driving Hamiltonian and\n",
    "the decoherence time for each component systems.\n",
    "The processor can simulate the evolution under the given\n",
    "control pulses. Noisy evolution is supported by\n",
    ":class:`qutip.qip.Noise` and can be added to the processor."
   ]
  },
  {
   "cell_type": "code",
   "execution_count": 4,
   "metadata": {},
   "outputs": [
    {
     "name": "stdout",
     "output_type": "stream",
     "text": [
      "asd\n",
      "[1.5707963267948966, 1.5707963267948966]\n",
      "[0.6283185307179586, 0.6283185307179586]\n",
      "[<qutip.qip.pulse.Pulse object at 0x7fdf0883a610>, <qutip.qip.pulse.Pulse object at 0x7fdf4810dfd0>, <qutip.qip.pulse.Pulse object at 0x7fdf4810d1f0>, <qutip.qip.pulse.Pulse object at 0x7fdf310dd040>, <qutip.qip.pulse.Pulse object at 0x7fdf310dd250>]\n",
      "[0.  0.5]\n",
      "[array([-1.57079633]), array([0.]), array([0.]), array([0.]), array([0.]), array([0.])]\n"
     ]
    },
    {
     "data": {
      "text/latex": [
       "Quantum object: dims = [[2, 2], [2, 2]], shape = (4, 4), type = oper, isherm = False\\begin{equation*}\\left(\\begin{array}{*{11}c}0.707 & 0.0 & 0.707j & 0.0\\\\0.0 & 0.707 & 0.0 & 0.707j\\\\0.707j & 0.0 & 0.707 & 0.0\\\\0.0 & 0.707j & 0.0 & 0.707\\\\\\end{array}\\right)\\end{equation*}"
      ],
      "text/plain": [
       "Quantum object: dims = [[2, 2], [2, 2]], shape = (4, 4), type = oper, isherm = False\n",
       "Qobj data =\n",
       "[[0.70710678+0.j         0.        +0.j         0.        +0.70710678j\n",
       "  0.        +0.j        ]\n",
       " [0.        +0.j         0.70710678+0.j         0.        +0.j\n",
       "  0.        +0.70710678j]\n",
       " [0.        +0.70710678j 0.        +0.j         0.70710678+0.j\n",
       "  0.        +0.j        ]\n",
       " [0.        +0.j         0.        +0.70710678j 0.        +0.j\n",
       "  0.70710678+0.j        ]]"
      ]
     },
     "execution_count": 4,
     "metadata": {},
     "output_type": "execute_result"
    }
   ],
   "source": [
    "p1 = CircularSpinChain(N, correct_global_phase=True)\n",
    "\n",
    "U_list = p1.run(qc)\n",
    "\n",
    "U_physical = gate_sequence_product(U_list)\n",
    "\n",
    "U_physical.tidyup(atol=1e-5)"
   ]
  },
  {
   "cell_type": "code",
   "execution_count": 5,
   "metadata": {},
   "outputs": [
    {
     "data": {
      "text/plain": [
       "[Gate(RX, targets=[0], controls=None)]"
      ]
     },
     "execution_count": 5,
     "metadata": {},
     "output_type": "execute_result"
    }
   ],
   "source": [
    "p1.qc0.gates"
   ]
  },
  {
   "cell_type": "code",
   "execution_count": 6,
   "metadata": {},
   "outputs": [
    {
     "data": {
      "image/png": "[encoded data removed]",
      "text/plain": [
       "<Figure size 864x432 with 1 Axes>"
      ]
     },
     "metadata": {
      "needs_background": "light"
     },
     "output_type": "display_data"
    }
   ],
   "source": [
    "p1.plot_pulses();"
   ]
  },
  {
   "cell_type": "code",
   "execution_count": 7,
   "metadata": {},
   "outputs": [
    {
     "name": "stdout",
     "output_type": "stream",
     "text": [
      "[0.  0.5]\n",
      "[array([-1.57079633]), array([0.]), array([0.]), array([0.]), array([0.]), array([0.])]\n"
     ]
    }
   ],
   "source": [
    "p1.load_circuit(qc);"
   ]
  },
  {
   "cell_type": "code",
   "execution_count": null,
   "metadata": {},
   "outputs": [],
   "source": []
  },
  {
   "cell_type": "code",
   "execution_count": 53,
   "metadata": {},
   "outputs": [
    {
     "data": {
      "text/html": [
       "<table><tr><th>Software</th><th>Version</th></tr><tr><td>QuTiP</td><td>4.5.0.dev0+01132789</td></tr><tr><td>Numpy</td><td>1.18.1</td></tr><tr><td>SciPy</td><td>1.4.1</td></tr><tr><td>matplotlib</td><td>3.2.0</td></tr><tr><td>Cython</td><td>0.29.15</td></tr><tr><td>Number of CPUs</td><td>6</td></tr><tr><td>BLAS Info</td><td>Generic</td></tr><tr><td>IPython</td><td>7.13.0</td></tr><tr><td>Python</td><td>3.8.2 | packaged by conda-forge | (default, Mar  5 2020, 16:54:44) \n",
       "[Clang 9.0.1 ]</td></tr><tr><td>OS</td><td>posix [darwin]</td></tr><tr><td colspan='2'>Mon Mar 23 14:54:50 2020 CET</td></tr></table>"
      ],
      "text/plain": [
       "<IPython.core.display.HTML object>"
      ]
     },
     "execution_count": 53,
     "metadata": {},
     "output_type": "execute_result"
    }
   ],
   "source": [
    "import qutip.ipynbtools\n",
    "qutip.ipynbtools.version_table()"
   ]
  }
 ],
 "metadata": {
  "kernelspec": {
   "display_name": "Python 3",
   "language": "python",
   "name": "python3"
  },
  "language_info": {
   "codemirror_mode": {
    "name": "ipython",
    "version": 3
   },
   "file_extension": ".py",
   "mimetype": "text/x-python",
   "name": "python",
   "nbconvert_exporter": "python",
   "pygments_lexer": "ipython3",
   "version": "3.8.2"
  }
 },
 "nbformat": 4,
 "nbformat_minor": 2
}
