{
 "cells": [
  {
   "cell_type": "markdown",
   "metadata": {},
   "source": [
    "## Physical implementation of a qubit device"
   ]
  },
  {
   "cell_type": "code",
   "execution_count": 1,
   "metadata": {},
   "outputs": [],
   "source": [
    "%matplotlib inline\n",
    "import numpy as np\n",
    "\n",
    "from qutip import *\n",
    "from qutip.qip.device import *\n",
    "from qutip.qip.operations import rx, gate_sequence_product\n",
    "from qutip.qip.circuit import QubitCircuit\n",
    "from qutip.qip.circuit_latex import _latex_compile\n",
    "\n",
    "%load_ext autoreload\n",
    "%autoreload 2"
   ]
  },
  {
   "cell_type": "markdown",
   "metadata": {},
   "source": [
    "### Circuit Setup"
   ]
  },
  {
   "cell_type": "code",
   "execution_count": 2,
   "metadata": {},
   "outputs": [],
   "source": [
    "# Number of qubits in the system\n",
    "N = 2\n",
    "\n",
    "# Input state\n",
    "input_states = [\"0\"]*N\n",
    "\n",
    "# A list of integers for the dimension of each composite system.\n",
    "dims = [2]*N\n",
    "\n",
    "# Representation of a quantum program/algorithm, maintaining a sequence of gates.\n",
    "qc = QubitCircuit(N = N, reverse_states = False)\n",
    "\n",
    "qc.add_gate(\"RX\", 0, None, -np.pi/2, r\"-\\pi/2\")"
   ]
  },
  {
   "cell_type": "code",
   "execution_count": 3,
   "metadata": {},
   "outputs": [
    {
     "data": {
      "text/latex": [
       "Quantum object: dims = [[2, 2], [2, 2]], shape = (4, 4), type = oper, isherm = False\\begin{equation*}\\left(\\begin{array}{*{11}c}0.707 & 0.0 & 0.707j & 0.0\\\\0.0 & 0.707 & 0.0 & 0.707j\\\\0.707j & 0.0 & 0.707 & 0.0\\\\0.0 & 0.707j & 0.0 & 0.707\\\\\\end{array}\\right)\\end{equation*}"
      ],
      "text/plain": [
       "Quantum object: dims = [[2, 2], [2, 2]], shape = (4, 4), type = oper, isherm = False\n",
       "Qobj data =\n",
       "[[0.70710678+0.j         0.        +0.j         0.        +0.70710678j\n",
       "  0.        +0.j        ]\n",
       " [0.        +0.j         0.70710678+0.j         0.        +0.j\n",
       "  0.        +0.70710678j]\n",
       " [0.        +0.70710678j 0.        +0.j         0.70710678+0.j\n",
       "  0.        +0.j        ]\n",
       " [0.        +0.j         0.        +0.70710678j 0.        +0.j\n",
       "  0.70710678+0.j        ]]"
      ]
     },
     "execution_count": 3,
     "metadata": {},
     "output_type": "execute_result"
    }
   ],
   "source": [
    "U_ideal = gate_sequence_product(qc.propagators())\n",
    "\n",
    "U_ideal"
   ]
  },
  {
   "cell_type": "markdown",
   "metadata": {},
   "source": [
    "### Processor\n",
    "A simulator of a quantum device based on the QuTiP solver\n",
    ":func:`qutip.mesolve`.\n",
    "It is defined by the available driving Hamiltonian and\n",
    "the decoherence time for each component systems.\n",
    "The processor can simulate the evolution under the given\n",
    "control pulses. Noisy evolution is supported by\n",
    ":class:`qutip.qip.Noise` and can be added to the processor."
   ]
  },
  {
   "cell_type": "code",
   "execution_count": 4,
   "metadata": {},
   "outputs": [
    {
     "name": "stdout",
     "output_type": "stream",
     "text": [
      "asd\n",
      "[1.5707963267948966, 1.5707963267948966]\n",
      "[0.6283185307179586, 0.6283185307179586]\n",
      "[<qutip.qip.pulse.Pulse object at 0x7fdf0883a610>, <qutip.qip.pulse.Pulse object at 0x7fdf4810dfd0>, <qutip.qip.pulse.Pulse object at 0x7fdf4810d1f0>, <qutip.qip.pulse.Pulse object at 0x7fdf310dd040>, <qutip.qip.pulse.Pulse object at 0x7fdf310dd250>]\n",
      "[0.  0.5]\n",
      "[array([-1.57079633]), array([0.]), array([0.]), array([0.]), array([0.]), array([0.])]\n"
     ]
    },
    {
     "data": {
      "text/latex": [
       "Quantum object: dims = [[2, 2], [2, 2]], shape = (4, 4), type = oper, isherm = False\\begin{equation*}\\left(\\begin{array}{*{11}c}0.707 & 0.0 & 0.707j & 0.0\\\\0.0 & 0.707 & 0.0 & 0.707j\\\\0.707j & 0.0 & 0.707 & 0.0\\\\0.0 & 0.707j & 0.0 & 0.707\\\\\\end{array}\\right)\\end{equation*}"
      ],
      "text/plain": [
       "Quantum object: dims = [[2, 2], [2, 2]], shape = (4, 4), type = oper, isherm = False\n",
       "Qobj data =\n",
       "[[0.70710678+0.j         0.        +0.j         0.        +0.70710678j\n",
       "  0.        +0.j        ]\n",
       " [0.        +0.j         0.70710678+0.j         0.        +0.j\n",
       "  0.        +0.70710678j]\n",
       " [0.        +0.70710678j 0.        +0.j         0.70710678+0.j\n",
       "  0.        +0.j        ]\n",
       " [0.        +0.j         0.        +0.70710678j 0.        +0.j\n",
       "  0.70710678+0.j        ]]"
      ]
     },
     "execution_count": 4,
     "metadata": {},
     "output_type": "execute_result"
    }
   ],
   "source": [
    "p1 = CircularSpinChain(N, correct_global_phase=True)\n",
    "\n",
    "U_list = p1.run(qc)\n",
    "\n",
    "U_physical = gate_sequence_product(U_list)\n",
    "\n",
    "U_physical.tidyup(atol=1e-5)"
   ]
  },
  {
   "cell_type": "code",
   "execution_count": 5,
   "metadata": {},
   "outputs": [
    {
     "data": {
      "text/plain": [
       "[Gate(RX, targets=[0], controls=None)]"
      ]
     },
     "execution_count": 5,
     "metadata": {},
     "output_type": "execute_result"
    }
   ],
   "source": [
    "p1.qc0.gates"
   ]
  },
  {
   "cell_type": "code",
   "execution_count": 6,
   "metadata": {},
   "outputs": [
    {
     "data": {
      "image/png": "[encoded data removed]",
      "text/plain": [
       "<Figure size 864x432 with 1 Axes>"
      ]
     },
     "metadata": {
      "needs_background": "light"
     },
     "output_type": "display_data"
    }
   ],
   "source": [
    "p1.plot_pulses();"
   ]
  },
  {
   "cell_type": "code",
   "execution_count": 7,
   "metadata": {},
   "outputs": [
    {
     "name": "stdout",
     "output_type": "stream",
     "text": [
      "[0.  0.5]\n",
      "[array([-1.57079633]), array([0.]), array([0.]), array([0.]), array([0.]), array([0.])]\n"
     ]
    }
   ],
   "source": [
    "p1.load_circuit(qc);"
   ]
  },
  {
   "cell_type": "code",
   "execution_count": 54,
   "metadata": {},
   "outputs": [
    {
     "name": "stdout",
     "output_type": "stream",
     "text": [
      "35.866872175650876\n"
     ]
    },
    {
     "data": {
      "text/plain": [
       "(<Figure size 432x288 with 1 Axes>,\n",
       " <matplotlib.axes._subplots.AxesSubplot at 0x7fd3905e46d0>)"
      ]
     },
     "execution_count": 54,
     "metadata": {},
     "output_type": "execute_result"
    },
    {
     "data": {
      "image/png": "[encoded data removed]",
      "text/plain": [
       "<Figure size 432x288 with 1 Axes>"
      ]
     },
     "metadata": {
      "needs_background": "light"
     },
     "output_type": "display_data"
    }
   ],
   "source": [
    "# energy levels\n",
    "N = 3 # Qutrit\n",
    "\n",
    "# Annihilation operator for the transmon\n",
    "a = destroy(N)\n",
    "\n",
    "# Qubit frequency (0->1) in GHz\n",
    "omega = 2*np.pi * 5.708390\n",
    "\n",
    "# Drive frequency in MHz\n",
    "omega_drive = omega\n",
    "\n",
    "# Self-Kerr coefficient (anharmonicity) in GHz\n",
    "alpha = - 2*np.pi* 0.261081457\n",
    "\n",
    "# Set rotating frame frequency (should be close to qubit frequencies for fast simulations)\n",
    "rotating_frame = omega #2*np.pi*5.0\n",
    "print(rotating_frame)\n",
    "\n",
    "# Transmon Hamiltonian in rotating frame\n",
    "H_qubit = (omega-rotating_frame) * a.dag() * a + alpha / 2 * pow(a.dag(),2) * pow(a,2)\n",
    "\n",
    "# Drive Hamiltonian (since we have drag pulses, we need both x and y drive)\n",
    "H_drive_x = a.dag() + a\n",
    "H_drive_y = 1j*(a.dag() - a)\n",
    "\n",
    "# Gaussian width in ns\n",
    "sigma = 10\n",
    "\n",
    "# Gate time in ns\n",
    "L = 50\n",
    "\n",
    "def H_drive_coeff_x(t, args):\n",
    "    \n",
    "    # Amplitude, needs to be optimized to get perfect pi pulse or pi/2 pulse\n",
    "    B = args['amp']\n",
    "    \n",
    "    # DRAG-parameter, needs to be optimized to get no phase errors in a pi/2 pulse\n",
    "    q = args['qscale']\n",
    "    \n",
    "    drive_freq = args['freq']\n",
    "    \n",
    "    # E(t)\n",
    "    E = B * np.exp(-pow(t-0.5*L, 2) / (2*pow(sigma,2)))\n",
    "    \n",
    "    I = E\n",
    "    Q = q * (t-0.5*L) / sigma * E # dE/dt\n",
    "    return I*np.cos(drive_freq * t) + Q*np.sin(drive_freq * t)\n",
    "\n",
    "def H_drive_coeff_y(t, args):\n",
    "    \n",
    "    # Amplitude, needs to be optimized to get perfect pi pulse or pi/2 pulse\n",
    "    B = args['amp']\n",
    "    \n",
    "    # DRAG-parameter, needs to be optimized to get no phase errors in a pi/2 pulse\n",
    "    q = args['qscale']\n",
    "    \n",
    "    drive_freq = args['freq']\n",
    "    \n",
    "    # E(t)\n",
    "    E = B * np.exp(-pow(t-0.5*L, 2) / (2*pow(sigma,2)))\n",
    "    \n",
    "    I = E\n",
    "    Q = -q * (t-0.5*L) / sigma * E # dE/dt\n",
    "    return Q*np.cos(drive_freq * t) + I*np.sin(drive_freq * t)\n",
    "\n",
    "t_total = L\n",
    "tlist = np.linspace(0,t_total,100)\n",
    "\n",
    "amp = 0.06345380720748712\n",
    "args = {'amp': amp, 'qscale': 0.032, 'freq': (rotating_frame - omega_drive)}\n",
    "\n",
    "p = Processor(N=1, dims = [3], spline_kind=\"cubic\")\n",
    "\n",
    "p.add_control(H_drive_x,targets=0)\n",
    "p.add_control(H_drive_y,targets=0)\n",
    "p.add_drift(H_qubit,targets=0)\n",
    "\n",
    "I = H_drive_coeff_x(tlist,args)\n",
    "Q = H_drive_coeff_y(tlist,args)\n",
    "p.pulses[0].tlist = np.array(tlist)\n",
    "p.pulses[0].coeff = np.array(I)\n",
    "p.pulses[1].tlist = np.array(tlist)\n",
    "p.pulses[1].coeff = np.array(Q)\n",
    "\n",
    "p.plot_pulses()"
   ]
  },
  {
   "cell_type": "code",
   "execution_count": 68,
   "metadata": {},
   "outputs": [
    {
     "data": {
      "text/latex": [
       "Quantum object: dims = [[3], [3]], shape = (3, 3), type = oper, isherm = True\\begin{equation*}\\left(\\begin{array}{*{11}c}0.0 & 0.0 & 0.0\\\\0.0 & 0.0 & 0.0\\\\0.0 & 0.0 & -1.640\\\\\\end{array}\\right)\\end{equation*}"
      ],
      "text/plain": [
       "Quantum object: dims = [[3], [3]], shape = (3, 3), type = oper, isherm = True\n",
       "Qobj data =\n",
       "[[ 0.          0.          0.        ]\n",
       " [ 0.          0.          0.        ]\n",
       " [ 0.          0.         -1.64042317]]"
      ]
     },
     "execution_count": 68,
     "metadata": {},
     "output_type": "execute_result"
    }
   ],
   "source": [
    "H_qubit"
   ]
  },
  {
   "cell_type": "code",
   "execution_count": 64,
   "metadata": {},
   "outputs": [],
   "source": [
    "result = p.run_state(init_state=basis(3,0),analytical=False)"
   ]
  },
  {
   "cell_type": "code",
   "execution_count": 66,
   "metadata": {},
   "outputs": [
    {
     "data": {
      "text/latex": [
       "Quantum object: dims = [[3], [1]], shape = (3, 1), type = ket\\begin{equation*}\\left(\\begin{array}{*{11}c}(6.905\\times10^{-04}+8.099\\times10^{-05}j)\\\\(-0.043-0.999j)\\\\(7.162\\times10^{-05}-0.002j)\\\\\\end{array}\\right)\\end{equation*}"
      ],
      "text/plain": [
       "Quantum object: dims = [[3], [1]], shape = (3, 1), type = ket\n",
       "Qobj data =\n",
       "[[ 6.90470113e-04+8.09890685e-05j]\n",
       " [-4.34457158e-02-9.99052695e-01j]\n",
       " [ 7.16177273e-05-2.38633000e-03j]]"
      ]
     },
     "execution_count": 66,
     "metadata": {},
     "output_type": "execute_result"
    }
   ],
   "source": [
    "fidelity(result.states[-1])"
   ]
  },
  {
   "cell_type": "code",
   "execution_count": 35,
   "metadata": {},
   "outputs": [
    {
     "data": {
      "text/html": [
       "<table><tr><th>Software</th><th>Version</th></tr><tr><td>QuTiP</td><td>4.5.0.dev0+01132789</td></tr><tr><td>Numpy</td><td>1.18.1</td></tr><tr><td>SciPy</td><td>1.4.1</td></tr><tr><td>matplotlib</td><td>3.2.1</td></tr><tr><td>Cython</td><td>0.29.16</td></tr><tr><td>Number of CPUs</td><td>6</td></tr><tr><td>BLAS Info</td><td>Generic</td></tr><tr><td>IPython</td><td>7.13.0</td></tr><tr><td>Python</td><td>3.8.2 | packaged by conda-forge | (default, Mar 23 2020, 17:55:48) \n",
       "[Clang 9.0.1 ]</td></tr><tr><td>OS</td><td>posix [darwin]</td></tr><tr><td colspan='2'>Tue Apr 21 10:05:34 2020 CEST</td></tr></table>"
      ],
      "text/plain": [
       "<IPython.core.display.HTML object>"
      ]
     },
     "execution_count": 35,
     "metadata": {},
     "output_type": "execute_result"
    }
   ],
   "source": [
    "import qutip.ipynbtools\n",
    "qutip.ipynbtools.version_table()"
   ]
  },
  {
   "cell_type": "code",
   "execution_count": 80,
   "metadata": {},
   "outputs": [],
   "source": [
    "# energy levels\n",
    "N = 3 # Qutrit\n",
    "\n",
    "# Annihilation operator for the transmon\n",
    "a = destroy(N)\n",
    "\n",
    "# Qubit frequency (0->1) in GHz\n",
    "omega = 2*np.pi * 5.708390\n",
    "\n",
    "# Drive frequency in MHz\n",
    "omega_drive = omega\n",
    "\n",
    "# Self-Kerr coefficient (anharmonicity) in GHz\n",
    "alpha = - 2*np.pi* 0.261081457\n",
    "\n",
    "# Set rotating frame frequency (should be close to qubit frequencies for fast simulations)\n",
    "rotating_frame = omega #2*np.pi*5.0\n",
    "\n",
    "# Annihilation operators for the two qutrits\n",
    "a2 = tensor(qeye(N), destroy(N))\n",
    "a1 = tensor(destroy(N), qeye(N))\n",
    "\n",
    "# Transmon Hamiltonian in rotating frame\n",
    "H_qubit = (omega-rotating_frame) * a1.dag() * a1 + alpha / 2 * pow(a1.dag(),2) * pow(a1,2) + \\\n",
    "          (omega-rotating_frame) * a2.dag() * a2 + alpha / 2 * pow(a2.dag(),2) * pow(a2,2)\n",
    "\n",
    "# Drive Hamiltonian (since we have drag pulses, we need both x and y drive)\n",
    "H_drive_x = a.dag() + a\n",
    "H_drive_y = 1j*(a.dag() - a)\n",
    "\n",
    "# Gaussian width in ns\n",
    "sigma = 10\n",
    "\n",
    "# Gate time in ns\n",
    "L = 50\n",
    "\n",
    "def H_drive_coeff_x(t, args):\n",
    "    \n",
    "    # Amplitude, needs to be optimized to get perfect pi pulse or pi/2 pulse\n",
    "    B = args['amp']\n",
    "    \n",
    "    # DRAG-parameter, needs to be optimized to get no phase errors in a pi/2 pulse\n",
    "    q = args['qscale']\n",
    "    \n",
    "    drive_freq = args['freq']\n",
    "    \n",
    "    # E(t)\n",
    "    E = B * np.exp(-pow(t-0.5*L, 2) / (2*pow(sigma,2)))\n",
    "    \n",
    "    I = E\n",
    "    Q = q * (t-0.5*L) / sigma * E # dE/dt\n",
    "    return I*np.cos(drive_freq * t) + Q*np.sin(drive_freq * t)\n",
    "\n",
    "def H_drive_coeff_y(t, args):\n",
    "    \n",
    "    # Amplitude, needs to be optimized to get perfect pi pulse or pi/2 pulse\n",
    "    B = args['amp']\n",
    "    \n",
    "    # DRAG-parameter, needs to be optimized to get no phase errors in a pi/2 pulse\n",
    "    q = args['qscale']\n",
    "    \n",
    "    drive_freq = args['freq']\n",
    "    \n",
    "    # E(t)\n",
    "    E = B * np.exp(-pow(t-0.5*L, 2) / (2*pow(sigma,2)))\n",
    "    \n",
    "    I = E\n",
    "    Q = -q * (t-0.5*L) / sigma * E # dE/dt\n",
    "    return Q*np.cos(drive_freq * t) + I*np.sin(drive_freq * t)\n",
    "\n",
    "t_total = L\n",
    "tlist = np.linspace(0,t_total,100)\n",
    "\n",
    "amp = 0.06345380720748712\n",
    "args = {'amp': amp, 'qscale': 0.032, 'freq': (rotating_frame - omega_drive)}"
   ]
  },
  {
   "cell_type": "code",
   "execution_count": 82,
   "metadata": {},
   "outputs": [
    {
     "data": {
      "text/latex": [
       "Quantum object: dims = [[3, 3], [3, 3]], shape = (9, 9), type = oper, isherm = True\\begin{equation*}\\left(\\begin{array}{*{11}c}0.0 & 0.0 & 0.0 & 0.0 & 0.0 & 0.0 & 0.0 & 0.0 & 0.0\\\\0.0 & 0.0 & 0.0 & 0.0 & 0.0 & 0.0 & 0.0 & 0.0 & 0.0\\\\0.0 & 0.0 & -1.640 & 0.0 & 0.0 & 0.0 & 0.0 & 0.0 & 0.0\\\\0.0 & 0.0 & 0.0 & 0.0 & 0.0 & 0.0 & 0.0 & 0.0 & 0.0\\\\0.0 & 0.0 & 0.0 & 0.0 & 0.0 & 0.0 & 0.0 & 0.0 & 0.0\\\\0.0 & 0.0 & 0.0 & 0.0 & 0.0 & -1.640 & 0.0 & 0.0 & 0.0\\\\0.0 & 0.0 & 0.0 & 0.0 & 0.0 & 0.0 & -1.640 & 0.0 & 0.0\\\\0.0 & 0.0 & 0.0 & 0.0 & 0.0 & 0.0 & 0.0 & -1.640 & 0.0\\\\0.0 & 0.0 & 0.0 & 0.0 & 0.0 & 0.0 & 0.0 & 0.0 & -3.281\\\\\\end{array}\\right)\\end{equation*}"
      ],
      "text/plain": [
       "Quantum object: dims = [[3, 3], [3, 3]], shape = (9, 9), type = oper, isherm = True\n",
       "Qobj data =\n",
       "[[ 0.          0.          0.          0.          0.          0.\n",
       "   0.          0.          0.        ]\n",
       " [ 0.          0.          0.          0.          0.          0.\n",
       "   0.          0.          0.        ]\n",
       " [ 0.          0.         -1.64042317  0.          0.          0.\n",
       "   0.          0.          0.        ]\n",
       " [ 0.          0.          0.          0.          0.          0.\n",
       "   0.          0.          0.        ]\n",
       " [ 0.          0.          0.          0.          0.          0.\n",
       "   0.          0.          0.        ]\n",
       " [ 0.          0.          0.          0.          0.         -1.64042317\n",
       "   0.          0.          0.        ]\n",
       " [ 0.          0.          0.          0.          0.          0.\n",
       "  -1.64042317  0.          0.        ]\n",
       " [ 0.          0.          0.          0.          0.          0.\n",
       "   0.         -1.64042317  0.        ]\n",
       " [ 0.          0.          0.          0.          0.          0.\n",
       "   0.          0.         -3.28084635]]"
      ]
     },
     "execution_count": 82,
     "metadata": {},
     "output_type": "execute_result"
    }
   ],
   "source": [
    "H_qubit"
   ]
  },
  {
   "cell_type": "code",
   "execution_count": 91,
   "metadata": {},
   "outputs": [
    {
     "data": {
      "text/plain": [
       "(<Figure size 432x288 with 1 Axes>,\n",
       " <matplotlib.axes._subplots.AxesSubplot at 0x7fd370278c70>)"
      ]
     },
     "execution_count": 91,
     "metadata": {},
     "output_type": "execute_result"
    },
    {
     "data": {
      "image/png": "[encoded data removed]",
      "text/plain": [
       "<Figure size 432x288 with 1 Axes>"
      ]
     },
     "metadata": {
      "needs_background": "light"
     },
     "output_type": "display_data"
    }
   ],
   "source": [
    "p = Processor(N = 2, dims = [3]*N, spline_kind=\"cubic\")\n",
    "\n",
    "p.add_control(H_drive_x, cyclic_permutation = True)\n",
    "p.add_control(H_drive_y, cyclic_permutation = True)\n",
    "\n",
    "p.add_drift(H_qubit, targets = [0,1])\n",
    "\n",
    "I = H_drive_coeff_x(tlist,args)\n",
    "Q = H_drive_coeff_y(tlist,args)\n",
    "\n",
    "p.pulses[0].tlist = np.array(tlist)\n",
    "p.pulses[0].coeff = np.array(I)\n",
    "p.pulses[1].tlist = np.array(tlist)\n",
    "p.pulses[1].coeff = np.array(Q)\n",
    "p.pulses[2].tlist = np.array(tlist)\n",
    "p.pulses[2].coeff = np.array(I)\n",
    "p.pulses[3].tlist = np.array(tlist)\n",
    "p.pulses[3].coeff = np.array(Q)\n",
    "\n",
    "p.plot_pulses()"
   ]
  },
  {
   "cell_type": "code",
   "execution_count": 92,
   "metadata": {},
   "outputs": [
    {
     "name": "stdout",
     "output_type": "stream",
     "text": [
      "['__class__', '__delattr__', '__dict__', '__dir__', '__doc__', '__eq__', '__format__', '__ge__', '__getattribute__', '__gt__', '__hash__', '__init__', '__init_subclass__', '__le__', '__lt__', '__module__', '__ne__', '__new__', '__reduce__', '__reduce_ex__', '__repr__', '__setattr__', '__sizeof__', '__slotnames__', '__str__', '__subclasshook__', '__weakref__', '_get_qobjevo_helper', 'coeff', 'get_qobj', 'get_qobjevo', 'qobj', 'targets', 'tlist']\n",
      "{'qobj': Quantum object: dims = [[3, 3], [3, 3]], shape = (9, 9), type = oper, isherm = True\n",
      "Qobj data =\n",
      "[[ 0.          0.          0.          0.          0.          0.\n",
      "   0.          0.          0.        ]\n",
      " [ 0.          0.          0.          0.          0.          0.\n",
      "   0.          0.          0.        ]\n",
      " [ 0.          0.         -1.64042317  0.          0.          0.\n",
      "   0.          0.          0.        ]\n",
      " [ 0.          0.          0.          0.          0.          0.\n",
      "   0.          0.          0.        ]\n",
      " [ 0.          0.          0.          0.          0.          0.\n",
      "   0.          0.          0.        ]\n",
      " [ 0.          0.          0.          0.          0.         -1.64042317\n",
      "   0.          0.          0.        ]\n",
      " [ 0.          0.          0.          0.          0.          0.\n",
      "  -1.64042317  0.          0.        ]\n",
      " [ 0.          0.          0.          0.          0.          0.\n",
      "   0.         -1.64042317  0.        ]\n",
      " [ 0.          0.          0.          0.          0.          0.\n",
      "   0.          0.         -3.28084635]], 'targets': [0, 1], 'tlist': None, 'coeff': None}\n"
     ]
    },
    {
     "ename": "ValueError",
     "evalue": "operands could not be broadcast together with shapes (27,) (9,) ",
     "output_type": "error",
     "traceback": [
      "\u001b[0;31m---------------------------------------------------------------------------\u001b[0m",
      "\u001b[0;31mValueError\u001b[0m                                Traceback (most recent call last)",
      "\u001b[0;32m<ipython-input-92-d73752652cb8>\u001b[0m in \u001b[0;36m<module>\u001b[0;34m\u001b[0m\n\u001b[1;32m      1\u001b[0m \u001b[0mpsi\u001b[0m \u001b[0;34m=\u001b[0m \u001b[0mtensor\u001b[0m\u001b[0;34m(\u001b[0m\u001b[0mbasis\u001b[0m\u001b[0;34m(\u001b[0m\u001b[0;36m3\u001b[0m\u001b[0;34m,\u001b[0m\u001b[0;36m0\u001b[0m\u001b[0;34m)\u001b[0m\u001b[0;34m,\u001b[0m\u001b[0mbasis\u001b[0m\u001b[0;34m(\u001b[0m\u001b[0;36m3\u001b[0m\u001b[0;34m,\u001b[0m\u001b[0;36m0\u001b[0m\u001b[0;34m)\u001b[0m\u001b[0;34m)\u001b[0m\u001b[0;34m\u001b[0m\u001b[0;34m\u001b[0m\u001b[0m\n\u001b[0;32m----> 2\u001b[0;31m \u001b[0mresult\u001b[0m \u001b[0;34m=\u001b[0m \u001b[0mp\u001b[0m\u001b[0;34m.\u001b[0m\u001b[0mrun_state\u001b[0m\u001b[0;34m(\u001b[0m\u001b[0minit_state\u001b[0m\u001b[0;34m=\u001b[0m\u001b[0mpsi\u001b[0m\u001b[0;34m,\u001b[0m\u001b[0manalytical\u001b[0m\u001b[0;34m=\u001b[0m\u001b[0;32mFalse\u001b[0m\u001b[0;34m)\u001b[0m\u001b[0;34m\u001b[0m\u001b[0;34m\u001b[0m\u001b[0m\n\u001b[0m",
      "\u001b[0;32m~/Google Drive/PhD/Code/GitHub/qutip/qutip/qip/device/processor.py\u001b[0m in \u001b[0;36mrun_state\u001b[0;34m(self, init_state, analytical, states, noisy, **kwargs)\u001b[0m\n\u001b[1;32m    693\u001b[0m         \u001b[0;31m#print('noisy',dir(noisy_qobjevo.ops))\u001b[0m\u001b[0;34m\u001b[0m\u001b[0;34m\u001b[0m\u001b[0;34m\u001b[0m\u001b[0m\n\u001b[1;32m    694\u001b[0m \u001b[0;34m\u001b[0m\u001b[0m\n\u001b[0;32m--> 695\u001b[0;31m         evo_result = mesolve(\n\u001b[0m\u001b[1;32m    696\u001b[0m             \u001b[0mH\u001b[0m\u001b[0;34m=\u001b[0m\u001b[0mnoisy_qobjevo\u001b[0m\u001b[0;34m,\u001b[0m \u001b[0mrho0\u001b[0m\u001b[0;34m=\u001b[0m\u001b[0minit_state\u001b[0m\u001b[0;34m,\u001b[0m\u001b[0;34m\u001b[0m\u001b[0;34m\u001b[0m\u001b[0m\n\u001b[1;32m    697\u001b[0m             tlist=noisy_qobjevo.tlist, **kwargs)\n",
      "\u001b[0;32m~/Google Drive/PhD/Code/GitHub/qutip/qutip/mesolve.py\u001b[0m in \u001b[0;36mmesolve\u001b[0;34m(H, rho0, tlist, c_ops, e_ops, args, options, progress_bar, _safe_mode)\u001b[0m\n\u001b[1;32m    245\u001b[0m \u001b[0;34m\u001b[0m\u001b[0m\n\u001b[1;32m    246\u001b[0m     \u001b[0;32mif\u001b[0m \u001b[0;32mnot\u001b[0m \u001b[0muse_mesolve\u001b[0m\u001b[0;34m:\u001b[0m\u001b[0;34m\u001b[0m\u001b[0;34m\u001b[0m\u001b[0m\n\u001b[0;32m--> 247\u001b[0;31m         return sesolve(H, rho0, tlist, e_ops=e_ops, args=args, options=options,\n\u001b[0m\u001b[1;32m    248\u001b[0m                     progress_bar=progress_bar, _safe_mode=_safe_mode)\n\u001b[1;32m    249\u001b[0m \u001b[0;34m\u001b[0m\u001b[0m\n",
      "\u001b[0;32m~/Google Drive/PhD/Code/GitHub/qutip/qutip/sesolve.py\u001b[0m in \u001b[0;36msesolve\u001b[0;34m(H, psi0, tlist, e_ops, args, options, progress_bar, _safe_mode)\u001b[0m\n\u001b[1;32m    165\u001b[0m     \u001b[0;32mif\u001b[0m \u001b[0m_safe_mode\u001b[0m\u001b[0;34m:\u001b[0m\u001b[0;34m\u001b[0m\u001b[0;34m\u001b[0m\u001b[0m\n\u001b[1;32m    166\u001b[0m         \u001b[0mv\u001b[0m \u001b[0;34m=\u001b[0m \u001b[0mpsi0\u001b[0m\u001b[0;34m.\u001b[0m\u001b[0mfull\u001b[0m\u001b[0;34m(\u001b[0m\u001b[0;34m)\u001b[0m\u001b[0;34m.\u001b[0m\u001b[0mravel\u001b[0m\u001b[0;34m(\u001b[0m\u001b[0;34m'F'\u001b[0m\u001b[0;34m)\u001b[0m\u001b[0;34m\u001b[0m\u001b[0;34m\u001b[0m\u001b[0m\n\u001b[0;32m--> 167\u001b[0;31m         \u001b[0mfunc\u001b[0m\u001b[0;34m(\u001b[0m\u001b[0;36m0.\u001b[0m\u001b[0;34m,\u001b[0m \u001b[0mv\u001b[0m\u001b[0;34m,\u001b[0m \u001b[0;34m*\u001b[0m\u001b[0mode_args\u001b[0m\u001b[0;34m)\u001b[0m \u001b[0;34m+\u001b[0m \u001b[0mv\u001b[0m\u001b[0;34m\u001b[0m\u001b[0;34m\u001b[0m\u001b[0m\n\u001b[0m\u001b[1;32m    168\u001b[0m \u001b[0;34m\u001b[0m\u001b[0m\n\u001b[1;32m    169\u001b[0m     res = _generic_ode_solve(func, ode_args, psi0, tlist, e_ops, options,\n",
      "\u001b[0;31mValueError\u001b[0m: operands could not be broadcast together with shapes (27,) (9,) "
     ]
    }
   ],
   "source": [
    "psi = tensor(basis(3,0),basis(3,0))\n",
    "result = p.run_state(init_state=psi,analytical=False)"
   ]
  },
  {
   "cell_type": "code",
   "execution_count": 89,
   "metadata": {},
   "outputs": [
    {
     "data": {
      "text/latex": [
       "Quantum object: dims = [[3, 3, 3], [3, 3, 3]], shape = (27, 27), type = oper, isherm = False\\begin{equation*}\\left(\\begin{array}{*{11}c}1.000 & 0.0 & 0.0 & (1.251\\times10^{-04}+1.251\\times10^{-04}j) & 0.0 & \\cdots & 0.0 & 0.0 & 0.0 & 0.0 & 0.0\\\\0.0 & 1.000 & 0.0 & 0.0 & (1.251\\times10^{-04}+1.251\\times10^{-04}j) & \\cdots & (-1.884\\times10^{-10}-2.590\\times10^{-10}j) & 0.0 & 0.0 & 0.0 & 0.0\\\\0.0 & 0.0 & 1.000 & 0.0 & 0.0 & \\cdots & 0.0 & (-1.884\\times10^{-10}-2.590\\times10^{-10}j) & 0.0 & 0.0 & 0.0\\\\(-1.251\\times10^{-04}+1.251\\times10^{-04}j) & 0.0 & 0.0 & 1.000 & 0.0 & \\cdots & 0.0 & 0.0 & (-2.665\\times10^{-10}-3.663\\times10^{-10}j) & 0.0 & 0.0\\\\0.0 & (-1.251\\times10^{-04}+1.251\\times10^{-04}j) & 0.0 & 0.0 & 1.000 & \\cdots & (-1.789\\times10^{-06}-2.822\\times10^{-07}j) & 0.0 & 0.0 & (-2.665\\times10^{-10}-3.663\\times10^{-10}j) & 0.0\\\\\\vdots & \\vdots & \\vdots & \\vdots & \\vdots & \\ddots & \\vdots & \\vdots & \\vdots & \\vdots & \\vdots\\\\0.0 & (1.884\\times10^{-10}-2.590\\times10^{-10}j) & 0.0 & 0.0 & (-1.789\\times10^{-06}+2.822\\times10^{-07}j) & \\cdots & 1.000 & 0.0 & 0.0 & (1.769\\times10^{-04}+1.769\\times10^{-04}j) & 0.0\\\\0.0 & 0.0 & (1.884\\times10^{-10}-2.590\\times10^{-10}j) & 0.0 & 0.0 & \\cdots & 0.0 & 1.000 & 0.0 & 0.0 & (1.769\\times10^{-04}+1.769\\times10^{-04}j)\\\\0.0 & 0.0 & 0.0 & (2.665\\times10^{-10}-3.663\\times10^{-10}j) & 0.0 & \\cdots & 0.0 & 0.0 & 1.000 & 0.0 & 0.0\\\\0.0 & 0.0 & 0.0 & 0.0 & (2.665\\times10^{-10}-3.663\\times10^{-10}j) & \\cdots & (-1.769\\times10^{-04}+1.769\\times10^{-04}j) & 0.0 & 0.0 & 1.000 & 0.0\\\\0.0 & 0.0 & 0.0 & 0.0 & 0.0 & \\cdots & 0.0 & (-1.769\\times10^{-04}+1.769\\times10^{-04}j) & 0.0 & 0.0 & 1.000\\\\\\end{array}\\right)\\end{equation*}"
      ],
      "text/plain": [
       "Quantum object: dims = [[3, 3, 3], [3, 3, 3]], shape = (27, 27), type = oper, isherm = False\n",
       "Qobj data =\n",
       "[[ 9.99998704e-01+0.00000000e+00j  0.00000000e+00+0.00000000e+00j\n",
       "   0.00000000e+00+0.00000000e+00j  1.25063182e-04+1.25063182e-04j\n",
       "   0.00000000e+00+0.00000000e+00j  0.00000000e+00+0.00000000e+00j\n",
       "   0.00000000e+00+2.21194595e-08j  0.00000000e+00+0.00000000e+00j\n",
       "   0.00000000e+00+0.00000000e+00j  1.25063182e-04-1.59552255e-03j\n",
       "   0.00000000e+00+0.00000000e+00j  0.00000000e+00+0.00000000e+00j\n",
       "   2.15182205e-07-1.83900566e-07j  0.00000000e+00+0.00000000e+00j\n",
       "   0.00000000e+00+0.00000000e+00j  3.52921423e-11+2.76633358e-12j\n",
       "   0.00000000e+00+0.00000000e+00j  0.00000000e+00+0.00000000e+00j\n",
       "  -1.78901997e-06-2.82194314e-07j  0.00000000e+00+0.00000000e+00j\n",
       "   0.00000000e+00+0.00000000e+00j -1.88448656e-10-2.59032985e-10j\n",
       "   0.00000000e+00+0.00000000e+00j  0.00000000e+00+0.00000000e+00j\n",
       "   0.00000000e+00+0.00000000e+00j  0.00000000e+00+0.00000000e+00j\n",
       "   0.00000000e+00+0.00000000e+00j]\n",
       " [ 0.00000000e+00+0.00000000e+00j  9.99998704e-01+0.00000000e+00j\n",
       "   0.00000000e+00+0.00000000e+00j  0.00000000e+00+0.00000000e+00j\n",
       "   1.25063182e-04+1.25063182e-04j  0.00000000e+00+0.00000000e+00j\n",
       "   0.00000000e+00+0.00000000e+00j  0.00000000e+00+2.21194595e-08j\n",
       "   0.00000000e+00+0.00000000e+00j  0.00000000e+00+0.00000000e+00j\n",
       "   1.25063182e-04-1.59552255e-03j  0.00000000e+00+0.00000000e+00j\n",
       "   0.00000000e+00+0.00000000e+00j  2.15182205e-07-1.83900566e-07j\n",
       "   0.00000000e+00+0.00000000e+00j  0.00000000e+00+0.00000000e+00j\n",
       "   3.52921423e-11+2.76633358e-12j  0.00000000e+00+0.00000000e+00j\n",
       "   0.00000000e+00+0.00000000e+00j -1.78901997e-06-2.82194314e-07j\n",
       "   0.00000000e+00+0.00000000e+00j  0.00000000e+00+0.00000000e+00j\n",
       "  -1.88448656e-10-2.59032985e-10j  0.00000000e+00+0.00000000e+00j\n",
       "   0.00000000e+00+0.00000000e+00j  0.00000000e+00+0.00000000e+00j\n",
       "   0.00000000e+00+0.00000000e+00j]\n",
       " [ 0.00000000e+00+0.00000000e+00j  0.00000000e+00+0.00000000e+00j\n",
       "   9.99998704e-01+0.00000000e+00j  0.00000000e+00+0.00000000e+00j\n",
       "   0.00000000e+00+0.00000000e+00j  1.25063182e-04+1.25063182e-04j\n",
       "   0.00000000e+00+0.00000000e+00j  0.00000000e+00+0.00000000e+00j\n",
       "   0.00000000e+00+2.21194595e-08j  0.00000000e+00+0.00000000e+00j\n",
       "   0.00000000e+00+0.00000000e+00j  1.25063182e-04-1.59552255e-03j\n",
       "   0.00000000e+00+0.00000000e+00j  0.00000000e+00+0.00000000e+00j\n",
       "   2.15182205e-07-1.83900566e-07j  0.00000000e+00+0.00000000e+00j\n",
       "   0.00000000e+00+0.00000000e+00j  3.52921423e-11+2.76633358e-12j\n",
       "   0.00000000e+00+0.00000000e+00j  0.00000000e+00+0.00000000e+00j\n",
       "  -1.78901997e-06-2.82194314e-07j  0.00000000e+00+0.00000000e+00j\n",
       "   0.00000000e+00+0.00000000e+00j -1.88448656e-10-2.59032985e-10j\n",
       "   0.00000000e+00+0.00000000e+00j  0.00000000e+00+0.00000000e+00j\n",
       "   0.00000000e+00+0.00000000e+00j]\n",
       " [-1.25063182e-04+1.25063182e-04j  0.00000000e+00+0.00000000e+00j\n",
       "   0.00000000e+00+0.00000000e+00j  9.99998672e-01+0.00000000e+00j\n",
       "   0.00000000e+00+0.00000000e+00j  0.00000000e+00+0.00000000e+00j\n",
       "   1.76866048e-04+1.76866048e-04j  0.00000000e+00+0.00000000e+00j\n",
       "   0.00000000e+00+0.00000000e+00j  1.83900566e-07+2.15182205e-07j\n",
       "   0.00000000e+00+0.00000000e+00j  0.00000000e+00+0.00000000e+00j\n",
       "   1.25063178e-04-1.59552250e-03j  0.00000000e+00+0.00000000e+00j\n",
       "   0.00000000e+00+0.00000000e+00j  3.04313593e-07-2.60074674e-07j\n",
       "   0.00000000e+00+0.00000000e+00j  0.00000000e+00+0.00000000e+00j\n",
       "   2.59032985e-10-1.88448656e-10j  0.00000000e+00+0.00000000e+00j\n",
       "   0.00000000e+00+0.00000000e+00j -1.78901992e-06-2.82194306e-07j\n",
       "   0.00000000e+00+0.00000000e+00j  0.00000000e+00+0.00000000e+00j\n",
       "  -2.66506645e-10-3.66327960e-10j  0.00000000e+00+0.00000000e+00j\n",
       "   0.00000000e+00+0.00000000e+00j]\n",
       " [ 0.00000000e+00+0.00000000e+00j -1.25063182e-04+1.25063182e-04j\n",
       "   0.00000000e+00+0.00000000e+00j  0.00000000e+00+0.00000000e+00j\n",
       "   9.99998672e-01+0.00000000e+00j  0.00000000e+00+0.00000000e+00j\n",
       "   0.00000000e+00+0.00000000e+00j  1.76866048e-04+1.76866048e-04j\n",
       "   0.00000000e+00+0.00000000e+00j  0.00000000e+00+0.00000000e+00j\n",
       "   1.83900566e-07+2.15182205e-07j  0.00000000e+00+0.00000000e+00j\n",
       "   0.00000000e+00+0.00000000e+00j  1.25063178e-04-1.59552250e-03j\n",
       "   0.00000000e+00+0.00000000e+00j  0.00000000e+00+0.00000000e+00j\n",
       "   3.04313593e-07-2.60074674e-07j  0.00000000e+00+0.00000000e+00j\n",
       "   0.00000000e+00+0.00000000e+00j  2.59032985e-10-1.88448656e-10j\n",
       "   0.00000000e+00+0.00000000e+00j  0.00000000e+00+0.00000000e+00j\n",
       "  -1.78901992e-06-2.82194306e-07j  0.00000000e+00+0.00000000e+00j\n",
       "   0.00000000e+00+0.00000000e+00j -2.66506645e-10-3.66327960e-10j\n",
       "   0.00000000e+00+0.00000000e+00j]\n",
       " [ 0.00000000e+00+0.00000000e+00j  0.00000000e+00+0.00000000e+00j\n",
       "  -1.25063182e-04+1.25063182e-04j  0.00000000e+00+0.00000000e+00j\n",
       "   0.00000000e+00+0.00000000e+00j  9.99998672e-01+0.00000000e+00j\n",
       "   0.00000000e+00+0.00000000e+00j  0.00000000e+00+0.00000000e+00j\n",
       "   1.76866048e-04+1.76866048e-04j  0.00000000e+00+0.00000000e+00j\n",
       "   0.00000000e+00+0.00000000e+00j  1.83900566e-07+2.15182205e-07j\n",
       "   0.00000000e+00+0.00000000e+00j  0.00000000e+00+0.00000000e+00j\n",
       "   1.25063178e-04-1.59552250e-03j  0.00000000e+00+0.00000000e+00j\n",
       "   0.00000000e+00+0.00000000e+00j  3.04313593e-07-2.60074674e-07j\n",
       "   0.00000000e+00+0.00000000e+00j  0.00000000e+00+0.00000000e+00j\n",
       "   2.59032985e-10-1.88448656e-10j  0.00000000e+00+0.00000000e+00j\n",
       "   0.00000000e+00+0.00000000e+00j -1.78901992e-06-2.82194306e-07j\n",
       "   0.00000000e+00+0.00000000e+00j  0.00000000e+00+0.00000000e+00j\n",
       "  -2.66506645e-10-3.66327960e-10j]\n",
       " [ 0.00000000e+00-2.21194595e-08j  0.00000000e+00+0.00000000e+00j\n",
       "   0.00000000e+00+0.00000000e+00j -1.76866048e-04+1.76866048e-04j\n",
       "   0.00000000e+00+0.00000000e+00j  0.00000000e+00+0.00000000e+00j\n",
       "   9.99998688e-01+0.00000000e+00j  0.00000000e+00+0.00000000e+00j\n",
       "   0.00000000e+00+0.00000000e+00j -3.52921423e-11-2.76633358e-12j\n",
       "   0.00000000e+00+0.00000000e+00j  0.00000000e+00+0.00000000e+00j\n",
       "   2.60074674e-07+3.04313593e-07j  0.00000000e+00+0.00000000e+00j\n",
       "   0.00000000e+00+0.00000000e+00j  1.25063180e-04-1.59552253e-03j\n",
       "   0.00000000e+00+0.00000000e+00j  0.00000000e+00+0.00000000e+00j\n",
       "   0.00000000e+00+0.00000000e+00j  0.00000000e+00+0.00000000e+00j\n",
       "   0.00000000e+00+0.00000000e+00j  3.66327960e-10-2.66506645e-10j\n",
       "   0.00000000e+00+0.00000000e+00j  0.00000000e+00+0.00000000e+00j\n",
       "  -1.78901995e-06-2.82194310e-07j  0.00000000e+00+0.00000000e+00j\n",
       "   0.00000000e+00+0.00000000e+00j]\n",
       " [ 0.00000000e+00+0.00000000e+00j  0.00000000e+00-2.21194595e-08j\n",
       "   0.00000000e+00+0.00000000e+00j  0.00000000e+00+0.00000000e+00j\n",
       "  -1.76866048e-04+1.76866048e-04j  0.00000000e+00+0.00000000e+00j\n",
       "   0.00000000e+00+0.00000000e+00j  9.99998688e-01+0.00000000e+00j\n",
       "   0.00000000e+00+0.00000000e+00j  0.00000000e+00+0.00000000e+00j\n",
       "  -3.52921423e-11-2.76633358e-12j  0.00000000e+00+0.00000000e+00j\n",
       "   0.00000000e+00+0.00000000e+00j  2.60074674e-07+3.04313593e-07j\n",
       "   0.00000000e+00+0.00000000e+00j  0.00000000e+00+0.00000000e+00j\n",
       "   1.25063180e-04-1.59552253e-03j  0.00000000e+00+0.00000000e+00j\n",
       "   0.00000000e+00+0.00000000e+00j  0.00000000e+00+0.00000000e+00j\n",
       "   0.00000000e+00+0.00000000e+00j  0.00000000e+00+0.00000000e+00j\n",
       "   3.66327960e-10-2.66506645e-10j  0.00000000e+00+0.00000000e+00j\n",
       "   0.00000000e+00+0.00000000e+00j -1.78901995e-06-2.82194310e-07j\n",
       "   0.00000000e+00+0.00000000e+00j]\n",
       " [ 0.00000000e+00+0.00000000e+00j  0.00000000e+00+0.00000000e+00j\n",
       "   0.00000000e+00-2.21194595e-08j  0.00000000e+00+0.00000000e+00j\n",
       "   0.00000000e+00+0.00000000e+00j -1.76866048e-04+1.76866048e-04j\n",
       "   0.00000000e+00+0.00000000e+00j  0.00000000e+00+0.00000000e+00j\n",
       "   9.99998688e-01+0.00000000e+00j  0.00000000e+00+0.00000000e+00j\n",
       "   0.00000000e+00+0.00000000e+00j -3.52921423e-11-2.76633358e-12j\n",
       "   0.00000000e+00+0.00000000e+00j  0.00000000e+00+0.00000000e+00j\n",
       "   2.60074674e-07+3.04313593e-07j  0.00000000e+00+0.00000000e+00j\n",
       "   0.00000000e+00+0.00000000e+00j  1.25063180e-04-1.59552253e-03j\n",
       "   0.00000000e+00+0.00000000e+00j  0.00000000e+00+0.00000000e+00j\n",
       "   0.00000000e+00+0.00000000e+00j  0.00000000e+00+0.00000000e+00j\n",
       "   0.00000000e+00+0.00000000e+00j  3.66327960e-10-2.66506645e-10j\n",
       "   0.00000000e+00+0.00000000e+00j  0.00000000e+00+0.00000000e+00j\n",
       "  -1.78901995e-06-2.82194310e-07j]\n",
       " [-1.25063182e-04-1.59552255e-03j  0.00000000e+00+0.00000000e+00j\n",
       "   0.00000000e+00+0.00000000e+00j  1.83900566e-07-2.15182205e-07j\n",
       "   0.00000000e+00+0.00000000e+00j  0.00000000e+00+0.00000000e+00j\n",
       "   3.52921423e-11-2.76633358e-12j  0.00000000e+00+0.00000000e+00j\n",
       "   0.00000000e+00+0.00000000e+00j  9.99996142e-01+0.00000000e+00j\n",
       "   0.00000000e+00+0.00000000e+00j  0.00000000e+00+0.00000000e+00j\n",
       "   1.25062861e-04+1.25062861e-04j  0.00000000e+00+0.00000000e+00j\n",
       "   0.00000000e+00+0.00000000e+00j  0.00000000e+00+2.21194029e-08j\n",
       "   0.00000000e+00+0.00000000e+00j  0.00000000e+00+0.00000000e+00j\n",
       "   1.76866048e-04-2.25640963e-03j  0.00000000e+00+0.00000000e+00j\n",
       "   0.00000000e+00+0.00000000e+00j  3.04313593e-07-2.60074674e-07j\n",
       "   0.00000000e+00+0.00000000e+00j  0.00000000e+00+0.00000000e+00j\n",
       "   4.99106262e-11+3.91218646e-12j  0.00000000e+00+0.00000000e+00j\n",
       "   0.00000000e+00+0.00000000e+00j]\n",
       " [ 0.00000000e+00+0.00000000e+00j -1.25063182e-04-1.59552255e-03j\n",
       "   0.00000000e+00+0.00000000e+00j  0.00000000e+00+0.00000000e+00j\n",
       "   1.83900566e-07-2.15182205e-07j  0.00000000e+00+0.00000000e+00j\n",
       "   0.00000000e+00+0.00000000e+00j  3.52921423e-11-2.76633358e-12j\n",
       "   0.00000000e+00+0.00000000e+00j  0.00000000e+00+0.00000000e+00j\n",
       "   9.99996142e-01+0.00000000e+00j  0.00000000e+00+0.00000000e+00j\n",
       "   0.00000000e+00+0.00000000e+00j  1.25062861e-04+1.25062861e-04j\n",
       "   0.00000000e+00+0.00000000e+00j  0.00000000e+00+0.00000000e+00j\n",
       "   0.00000000e+00+2.21194029e-08j  0.00000000e+00+0.00000000e+00j\n",
       "   0.00000000e+00+0.00000000e+00j  1.76866048e-04-2.25640963e-03j\n",
       "   0.00000000e+00+0.00000000e+00j  0.00000000e+00+0.00000000e+00j\n",
       "   3.04313593e-07-2.60074674e-07j  0.00000000e+00+0.00000000e+00j\n",
       "   0.00000000e+00+0.00000000e+00j  4.99106262e-11+3.91218646e-12j\n",
       "   0.00000000e+00+0.00000000e+00j]\n",
       " [ 0.00000000e+00+0.00000000e+00j  0.00000000e+00+0.00000000e+00j\n",
       "  -1.25063182e-04-1.59552255e-03j  0.00000000e+00+0.00000000e+00j\n",
       "   0.00000000e+00+0.00000000e+00j  1.83900566e-07-2.15182205e-07j\n",
       "   0.00000000e+00+0.00000000e+00j  0.00000000e+00+0.00000000e+00j\n",
       "   3.52921423e-11-2.76633358e-12j  0.00000000e+00+0.00000000e+00j\n",
       "   0.00000000e+00+0.00000000e+00j  9.99996142e-01+0.00000000e+00j\n",
       "   0.00000000e+00+0.00000000e+00j  0.00000000e+00+0.00000000e+00j\n",
       "   1.25062861e-04+1.25062861e-04j  0.00000000e+00+0.00000000e+00j\n",
       "   0.00000000e+00+0.00000000e+00j  0.00000000e+00+2.21194029e-08j\n",
       "   0.00000000e+00+0.00000000e+00j  0.00000000e+00+0.00000000e+00j\n",
       "   1.76866048e-04-2.25640963e-03j  0.00000000e+00+0.00000000e+00j\n",
       "   0.00000000e+00+0.00000000e+00j  3.04313593e-07-2.60074674e-07j\n",
       "   0.00000000e+00+0.00000000e+00j  0.00000000e+00+0.00000000e+00j\n",
       "   4.99106262e-11+3.91218646e-12j]\n",
       " [ 2.15182205e-07+1.83900566e-07j  0.00000000e+00+0.00000000e+00j\n",
       "   0.00000000e+00+0.00000000e+00j -1.25063178e-04-1.59552250e-03j\n",
       "   0.00000000e+00+0.00000000e+00j  0.00000000e+00+0.00000000e+00j\n",
       "   2.60074674e-07-3.04313593e-07j  0.00000000e+00+0.00000000e+00j\n",
       "   0.00000000e+00+0.00000000e+00j -1.25062861e-04+1.25062861e-04j\n",
       "   0.00000000e+00+0.00000000e+00j  0.00000000e+00+0.00000000e+00j\n",
       "   9.99996111e-01+0.00000000e+00j  0.00000000e+00+0.00000000e+00j\n",
       "   0.00000000e+00+0.00000000e+00j  1.76865595e-04+1.76865595e-04j\n",
       "   0.00000000e+00+0.00000000e+00j  0.00000000e+00+0.00000000e+00j\n",
       "   2.60074674e-07+3.04313593e-07j  0.00000000e+00+0.00000000e+00j\n",
       "   0.00000000e+00+0.00000000e+00j  1.76866042e-04-2.25640956e-03j\n",
       "   0.00000000e+00+0.00000000e+00j  0.00000000e+00+0.00000000e+00j\n",
       "   4.30364410e-07-3.67801132e-07j  0.00000000e+00+0.00000000e+00j\n",
       "   0.00000000e+00+0.00000000e+00j]\n",
       " [ 0.00000000e+00+0.00000000e+00j  2.15182205e-07+1.83900566e-07j\n",
       "   0.00000000e+00+0.00000000e+00j  0.00000000e+00+0.00000000e+00j\n",
       "  -1.25063178e-04-1.59552250e-03j  0.00000000e+00+0.00000000e+00j\n",
       "   0.00000000e+00+0.00000000e+00j  2.60074674e-07-3.04313593e-07j\n",
       "   0.00000000e+00+0.00000000e+00j  0.00000000e+00+0.00000000e+00j\n",
       "  -1.25062861e-04+1.25062861e-04j  0.00000000e+00+0.00000000e+00j\n",
       "   0.00000000e+00+0.00000000e+00j  9.99996111e-01+0.00000000e+00j\n",
       "   0.00000000e+00+0.00000000e+00j  0.00000000e+00+0.00000000e+00j\n",
       "   1.76865595e-04+1.76865595e-04j  0.00000000e+00+0.00000000e+00j\n",
       "   0.00000000e+00+0.00000000e+00j  2.60074674e-07+3.04313593e-07j\n",
       "   0.00000000e+00+0.00000000e+00j  0.00000000e+00+0.00000000e+00j\n",
       "   1.76866042e-04-2.25640956e-03j  0.00000000e+00+0.00000000e+00j\n",
       "   0.00000000e+00+0.00000000e+00j  4.30364410e-07-3.67801132e-07j\n",
       "   0.00000000e+00+0.00000000e+00j]\n",
       " [ 0.00000000e+00+0.00000000e+00j  0.00000000e+00+0.00000000e+00j\n",
       "   2.15182205e-07+1.83900566e-07j  0.00000000e+00+0.00000000e+00j\n",
       "   0.00000000e+00+0.00000000e+00j -1.25063178e-04-1.59552250e-03j\n",
       "   0.00000000e+00+0.00000000e+00j  0.00000000e+00+0.00000000e+00j\n",
       "   2.60074674e-07-3.04313593e-07j  0.00000000e+00+0.00000000e+00j\n",
       "   0.00000000e+00+0.00000000e+00j -1.25062861e-04+1.25062861e-04j\n",
       "   0.00000000e+00+0.00000000e+00j  0.00000000e+00+0.00000000e+00j\n",
       "   9.99996111e-01+0.00000000e+00j  0.00000000e+00+0.00000000e+00j\n",
       "   0.00000000e+00+0.00000000e+00j  1.76865595e-04+1.76865595e-04j\n",
       "   0.00000000e+00+0.00000000e+00j  0.00000000e+00+0.00000000e+00j\n",
       "   2.60074674e-07+3.04313593e-07j  0.00000000e+00+0.00000000e+00j\n",
       "   0.00000000e+00+0.00000000e+00j  1.76866042e-04-2.25640956e-03j\n",
       "   0.00000000e+00+0.00000000e+00j  0.00000000e+00+0.00000000e+00j\n",
       "   4.30364410e-07-3.67801132e-07j]\n",
       " [-3.52921423e-11+2.76633358e-12j  0.00000000e+00+0.00000000e+00j\n",
       "   0.00000000e+00+0.00000000e+00j  3.04313593e-07+2.60074674e-07j\n",
       "   0.00000000e+00+0.00000000e+00j  0.00000000e+00+0.00000000e+00j\n",
       "  -1.25063180e-04-1.59552253e-03j  0.00000000e+00+0.00000000e+00j\n",
       "   0.00000000e+00+0.00000000e+00j  0.00000000e+00-2.21194029e-08j\n",
       "   0.00000000e+00+0.00000000e+00j  0.00000000e+00+0.00000000e+00j\n",
       "  -1.76865595e-04+1.76865595e-04j  0.00000000e+00+0.00000000e+00j\n",
       "   0.00000000e+00+0.00000000e+00j  9.99996127e-01+0.00000000e+00j\n",
       "   0.00000000e+00+0.00000000e+00j  0.00000000e+00+0.00000000e+00j\n",
       "  -4.99106262e-11-3.91218646e-12j  0.00000000e+00+0.00000000e+00j\n",
       "   0.00000000e+00+0.00000000e+00j  3.67801132e-07+4.30364410e-07j\n",
       "   0.00000000e+00+0.00000000e+00j  0.00000000e+00+0.00000000e+00j\n",
       "   1.76866045e-04-2.25640960e-03j  0.00000000e+00+0.00000000e+00j\n",
       "   0.00000000e+00+0.00000000e+00j]\n",
       " [ 0.00000000e+00+0.00000000e+00j -3.52921423e-11+2.76633358e-12j\n",
       "   0.00000000e+00+0.00000000e+00j  0.00000000e+00+0.00000000e+00j\n",
       "   3.04313593e-07+2.60074674e-07j  0.00000000e+00+0.00000000e+00j\n",
       "   0.00000000e+00+0.00000000e+00j -1.25063180e-04-1.59552253e-03j\n",
       "   0.00000000e+00+0.00000000e+00j  0.00000000e+00+0.00000000e+00j\n",
       "   0.00000000e+00-2.21194029e-08j  0.00000000e+00+0.00000000e+00j\n",
       "   0.00000000e+00+0.00000000e+00j -1.76865595e-04+1.76865595e-04j\n",
       "   0.00000000e+00+0.00000000e+00j  0.00000000e+00+0.00000000e+00j\n",
       "   9.99996127e-01+0.00000000e+00j  0.00000000e+00+0.00000000e+00j\n",
       "   0.00000000e+00+0.00000000e+00j -4.99106262e-11-3.91218646e-12j\n",
       "   0.00000000e+00+0.00000000e+00j  0.00000000e+00+0.00000000e+00j\n",
       "   3.67801132e-07+4.30364410e-07j  0.00000000e+00+0.00000000e+00j\n",
       "   0.00000000e+00+0.00000000e+00j  1.76866045e-04-2.25640960e-03j\n",
       "   0.00000000e+00+0.00000000e+00j]\n",
       " [ 0.00000000e+00+0.00000000e+00j  0.00000000e+00+0.00000000e+00j\n",
       "  -3.52921423e-11+2.76633358e-12j  0.00000000e+00+0.00000000e+00j\n",
       "   0.00000000e+00+0.00000000e+00j  3.04313593e-07+2.60074674e-07j\n",
       "   0.00000000e+00+0.00000000e+00j  0.00000000e+00+0.00000000e+00j\n",
       "  -1.25063180e-04-1.59552253e-03j  0.00000000e+00+0.00000000e+00j\n",
       "   0.00000000e+00+0.00000000e+00j  0.00000000e+00-2.21194029e-08j\n",
       "   0.00000000e+00+0.00000000e+00j  0.00000000e+00+0.00000000e+00j\n",
       "  -1.76865595e-04+1.76865595e-04j  0.00000000e+00+0.00000000e+00j\n",
       "   0.00000000e+00+0.00000000e+00j  9.99996127e-01+0.00000000e+00j\n",
       "   0.00000000e+00+0.00000000e+00j  0.00000000e+00+0.00000000e+00j\n",
       "  -4.99106262e-11-3.91218646e-12j  0.00000000e+00+0.00000000e+00j\n",
       "   0.00000000e+00+0.00000000e+00j  3.67801132e-07+4.30364410e-07j\n",
       "   0.00000000e+00+0.00000000e+00j  0.00000000e+00+0.00000000e+00j\n",
       "   1.76866045e-04-2.25640960e-03j]\n",
       " [-1.78901997e-06+2.82194314e-07j  0.00000000e+00+0.00000000e+00j\n",
       "   0.00000000e+00+0.00000000e+00j -2.59032985e-10-1.88448656e-10j\n",
       "   0.00000000e+00+0.00000000e+00j  0.00000000e+00+0.00000000e+00j\n",
       "   0.00000000e+00+0.00000000e+00j  0.00000000e+00+0.00000000e+00j\n",
       "   0.00000000e+00+0.00000000e+00j -1.76866048e-04-2.25640963e-03j\n",
       "   0.00000000e+00+0.00000000e+00j  0.00000000e+00+0.00000000e+00j\n",
       "   2.60074674e-07-3.04313593e-07j  0.00000000e+00+0.00000000e+00j\n",
       "   0.00000000e+00+0.00000000e+00j  4.99106262e-11-3.91218646e-12j\n",
       "   0.00000000e+00+0.00000000e+00j  0.00000000e+00+0.00000000e+00j\n",
       "   9.99997423e-01+0.00000000e+00j  0.00000000e+00+0.00000000e+00j\n",
       "   0.00000000e+00+0.00000000e+00j  1.25063022e-04+1.25063022e-04j\n",
       "   0.00000000e+00+0.00000000e+00j  0.00000000e+00+0.00000000e+00j\n",
       "   0.00000000e+00+2.21194312e-08j  0.00000000e+00+0.00000000e+00j\n",
       "   0.00000000e+00+0.00000000e+00j]\n",
       " [ 0.00000000e+00+0.00000000e+00j -1.78901997e-06+2.82194314e-07j\n",
       "   0.00000000e+00+0.00000000e+00j  0.00000000e+00+0.00000000e+00j\n",
       "  -2.59032985e-10-1.88448656e-10j  0.00000000e+00+0.00000000e+00j\n",
       "   0.00000000e+00+0.00000000e+00j  0.00000000e+00+0.00000000e+00j\n",
       "   0.00000000e+00+0.00000000e+00j  0.00000000e+00+0.00000000e+00j\n",
       "  -1.76866048e-04-2.25640963e-03j  0.00000000e+00+0.00000000e+00j\n",
       "   0.00000000e+00+0.00000000e+00j  2.60074674e-07-3.04313593e-07j\n",
       "   0.00000000e+00+0.00000000e+00j  0.00000000e+00+0.00000000e+00j\n",
       "   4.99106262e-11-3.91218646e-12j  0.00000000e+00+0.00000000e+00j\n",
       "   0.00000000e+00+0.00000000e+00j  9.99997423e-01+0.00000000e+00j\n",
       "   0.00000000e+00+0.00000000e+00j  0.00000000e+00+0.00000000e+00j\n",
       "   1.25063022e-04+1.25063022e-04j  0.00000000e+00+0.00000000e+00j\n",
       "   0.00000000e+00+0.00000000e+00j  0.00000000e+00+2.21194312e-08j\n",
       "   0.00000000e+00+0.00000000e+00j]\n",
       " [ 0.00000000e+00+0.00000000e+00j  0.00000000e+00+0.00000000e+00j\n",
       "  -1.78901997e-06+2.82194314e-07j  0.00000000e+00+0.00000000e+00j\n",
       "   0.00000000e+00+0.00000000e+00j -2.59032985e-10-1.88448656e-10j\n",
       "   0.00000000e+00+0.00000000e+00j  0.00000000e+00+0.00000000e+00j\n",
       "   0.00000000e+00+0.00000000e+00j  0.00000000e+00+0.00000000e+00j\n",
       "   0.00000000e+00+0.00000000e+00j -1.76866048e-04-2.25640963e-03j\n",
       "   0.00000000e+00+0.00000000e+00j  0.00000000e+00+0.00000000e+00j\n",
       "   2.60074674e-07-3.04313593e-07j  0.00000000e+00+0.00000000e+00j\n",
       "   0.00000000e+00+0.00000000e+00j  4.99106262e-11-3.91218646e-12j\n",
       "   0.00000000e+00+0.00000000e+00j  0.00000000e+00+0.00000000e+00j\n",
       "   9.99997423e-01+0.00000000e+00j  0.00000000e+00+0.00000000e+00j\n",
       "   0.00000000e+00+0.00000000e+00j  1.25063022e-04+1.25063022e-04j\n",
       "   0.00000000e+00+0.00000000e+00j  0.00000000e+00+0.00000000e+00j\n",
       "   0.00000000e+00+2.21194312e-08j]\n",
       " [ 1.88448656e-10-2.59032985e-10j  0.00000000e+00+0.00000000e+00j\n",
       "   0.00000000e+00+0.00000000e+00j -1.78901992e-06+2.82194306e-07j\n",
       "   0.00000000e+00+0.00000000e+00j  0.00000000e+00+0.00000000e+00j\n",
       "  -3.66327960e-10-2.66506645e-10j  0.00000000e+00+0.00000000e+00j\n",
       "   0.00000000e+00+0.00000000e+00j  3.04313593e-07+2.60074674e-07j\n",
       "   0.00000000e+00+0.00000000e+00j  0.00000000e+00+0.00000000e+00j\n",
       "  -1.76866042e-04-2.25640956e-03j  0.00000000e+00+0.00000000e+00j\n",
       "   0.00000000e+00+0.00000000e+00j  3.67801132e-07-4.30364410e-07j\n",
       "   0.00000000e+00+0.00000000e+00j  0.00000000e+00+0.00000000e+00j\n",
       "  -1.25063022e-04+1.25063022e-04j  0.00000000e+00+0.00000000e+00j\n",
       "   0.00000000e+00+0.00000000e+00j  9.99997392e-01+0.00000000e+00j\n",
       "   0.00000000e+00+0.00000000e+00j  0.00000000e+00+0.00000000e+00j\n",
       "   1.76865821e-04+1.76865821e-04j  0.00000000e+00+0.00000000e+00j\n",
       "   0.00000000e+00+0.00000000e+00j]\n",
       " [ 0.00000000e+00+0.00000000e+00j  1.88448656e-10-2.59032985e-10j\n",
       "   0.00000000e+00+0.00000000e+00j  0.00000000e+00+0.00000000e+00j\n",
       "  -1.78901992e-06+2.82194306e-07j  0.00000000e+00+0.00000000e+00j\n",
       "   0.00000000e+00+0.00000000e+00j -3.66327960e-10-2.66506645e-10j\n",
       "   0.00000000e+00+0.00000000e+00j  0.00000000e+00+0.00000000e+00j\n",
       "   3.04313593e-07+2.60074674e-07j  0.00000000e+00+0.00000000e+00j\n",
       "   0.00000000e+00+0.00000000e+00j -1.76866042e-04-2.25640956e-03j\n",
       "   0.00000000e+00+0.00000000e+00j  0.00000000e+00+0.00000000e+00j\n",
       "   3.67801132e-07-4.30364410e-07j  0.00000000e+00+0.00000000e+00j\n",
       "   0.00000000e+00+0.00000000e+00j -1.25063022e-04+1.25063022e-04j\n",
       "   0.00000000e+00+0.00000000e+00j  0.00000000e+00+0.00000000e+00j\n",
       "   9.99997392e-01+0.00000000e+00j  0.00000000e+00+0.00000000e+00j\n",
       "   0.00000000e+00+0.00000000e+00j  1.76865821e-04+1.76865821e-04j\n",
       "   0.00000000e+00+0.00000000e+00j]\n",
       " [ 0.00000000e+00+0.00000000e+00j  0.00000000e+00+0.00000000e+00j\n",
       "   1.88448656e-10-2.59032985e-10j  0.00000000e+00+0.00000000e+00j\n",
       "   0.00000000e+00+0.00000000e+00j -1.78901992e-06+2.82194306e-07j\n",
       "   0.00000000e+00+0.00000000e+00j  0.00000000e+00+0.00000000e+00j\n",
       "  -3.66327960e-10-2.66506645e-10j  0.00000000e+00+0.00000000e+00j\n",
       "   0.00000000e+00+0.00000000e+00j  3.04313593e-07+2.60074674e-07j\n",
       "   0.00000000e+00+0.00000000e+00j  0.00000000e+00+0.00000000e+00j\n",
       "  -1.76866042e-04-2.25640956e-03j  0.00000000e+00+0.00000000e+00j\n",
       "   0.00000000e+00+0.00000000e+00j  3.67801132e-07-4.30364410e-07j\n",
       "   0.00000000e+00+0.00000000e+00j  0.00000000e+00+0.00000000e+00j\n",
       "  -1.25063022e-04+1.25063022e-04j  0.00000000e+00+0.00000000e+00j\n",
       "   0.00000000e+00+0.00000000e+00j  9.99997392e-01+0.00000000e+00j\n",
       "   0.00000000e+00+0.00000000e+00j  0.00000000e+00+0.00000000e+00j\n",
       "   1.76865821e-04+1.76865821e-04j]\n",
       " [ 0.00000000e+00+0.00000000e+00j  0.00000000e+00+0.00000000e+00j\n",
       "   0.00000000e+00+0.00000000e+00j  2.66506645e-10-3.66327960e-10j\n",
       "   0.00000000e+00+0.00000000e+00j  0.00000000e+00+0.00000000e+00j\n",
       "  -1.78901995e-06+2.82194310e-07j  0.00000000e+00+0.00000000e+00j\n",
       "   0.00000000e+00+0.00000000e+00j -4.99106262e-11+3.91218646e-12j\n",
       "   0.00000000e+00+0.00000000e+00j  0.00000000e+00+0.00000000e+00j\n",
       "   4.30364410e-07+3.67801132e-07j  0.00000000e+00+0.00000000e+00j\n",
       "   0.00000000e+00+0.00000000e+00j -1.76866045e-04-2.25640960e-03j\n",
       "   0.00000000e+00+0.00000000e+00j  0.00000000e+00+0.00000000e+00j\n",
       "   0.00000000e+00-2.21194312e-08j  0.00000000e+00+0.00000000e+00j\n",
       "   0.00000000e+00+0.00000000e+00j -1.76865821e-04+1.76865821e-04j\n",
       "   0.00000000e+00+0.00000000e+00j  0.00000000e+00+0.00000000e+00j\n",
       "   9.99997407e-01+0.00000000e+00j  0.00000000e+00+0.00000000e+00j\n",
       "   0.00000000e+00+0.00000000e+00j]\n",
       " [ 0.00000000e+00+0.00000000e+00j  0.00000000e+00+0.00000000e+00j\n",
       "   0.00000000e+00+0.00000000e+00j  0.00000000e+00+0.00000000e+00j\n",
       "   2.66506645e-10-3.66327960e-10j  0.00000000e+00+0.00000000e+00j\n",
       "   0.00000000e+00+0.00000000e+00j -1.78901995e-06+2.82194310e-07j\n",
       "   0.00000000e+00+0.00000000e+00j  0.00000000e+00+0.00000000e+00j\n",
       "  -4.99106262e-11+3.91218646e-12j  0.00000000e+00+0.00000000e+00j\n",
       "   0.00000000e+00+0.00000000e+00j  4.30364410e-07+3.67801132e-07j\n",
       "   0.00000000e+00+0.00000000e+00j  0.00000000e+00+0.00000000e+00j\n",
       "  -1.76866045e-04-2.25640960e-03j  0.00000000e+00+0.00000000e+00j\n",
       "   0.00000000e+00+0.00000000e+00j  0.00000000e+00-2.21194312e-08j\n",
       "   0.00000000e+00+0.00000000e+00j  0.00000000e+00+0.00000000e+00j\n",
       "  -1.76865821e-04+1.76865821e-04j  0.00000000e+00+0.00000000e+00j\n",
       "   0.00000000e+00+0.00000000e+00j  9.99997407e-01+0.00000000e+00j\n",
       "   0.00000000e+00+0.00000000e+00j]\n",
       " [ 0.00000000e+00+0.00000000e+00j  0.00000000e+00+0.00000000e+00j\n",
       "   0.00000000e+00+0.00000000e+00j  0.00000000e+00+0.00000000e+00j\n",
       "   0.00000000e+00+0.00000000e+00j  2.66506645e-10-3.66327960e-10j\n",
       "   0.00000000e+00+0.00000000e+00j  0.00000000e+00+0.00000000e+00j\n",
       "  -1.78901995e-06+2.82194310e-07j  0.00000000e+00+0.00000000e+00j\n",
       "   0.00000000e+00+0.00000000e+00j -4.99106262e-11+3.91218646e-12j\n",
       "   0.00000000e+00+0.00000000e+00j  0.00000000e+00+0.00000000e+00j\n",
       "   4.30364410e-07+3.67801132e-07j  0.00000000e+00+0.00000000e+00j\n",
       "   0.00000000e+00+0.00000000e+00j -1.76866045e-04-2.25640960e-03j\n",
       "   0.00000000e+00+0.00000000e+00j  0.00000000e+00+0.00000000e+00j\n",
       "   0.00000000e+00-2.21194312e-08j  0.00000000e+00+0.00000000e+00j\n",
       "   0.00000000e+00+0.00000000e+00j -1.76865821e-04+1.76865821e-04j\n",
       "   0.00000000e+00+0.00000000e+00j  0.00000000e+00+0.00000000e+00j\n",
       "   9.99997407e-01+0.00000000e+00j]]"
      ]
     },
     "execution_count": 89,
     "metadata": {},
     "output_type": "execute_result"
    }
   ],
   "source": [
    "result[-1]"
   ]
  },
  {
   "cell_type": "code",
   "execution_count": null,
   "metadata": {},
   "outputs": [],
   "source": []
  }
 ],
 "metadata": {
  "kernelspec": {
   "display_name": "Python 3",
   "language": "python",
   "name": "python3"
  },
  "language_info": {
   "codemirror_mode": {
    "name": "ipython",
    "version": 3
   },
   "file_extension": ".py",
   "mimetype": "text/x-python",
   "name": "python",
   "nbconvert_exporter": "python",
   "pygments_lexer": "ipython3",
   "version": "3.8.2"
  }
 },
 "nbformat": 4,
 "nbformat_minor": 2
}
