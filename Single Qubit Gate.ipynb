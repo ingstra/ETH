{
 "cells": [
  {
   "cell_type": "code",
   "execution_count": 1,
   "metadata": {},
   "outputs": [],
   "source": [
    "import matplotlib.pyplot as plt\n",
    "import numpy as np\n",
    "import matplotlib as mp\n",
    "from qutip import *\n",
    "from numpy import pi"
   ]
  },
  {
   "cell_type": "code",
   "execution_count": 13,
   "metadata": {},
   "outputs": [],
   "source": [
    "# energy levels\n",
    "N = 3 # Qutrit\n",
    "id = qeye(N) # identity matrix\n",
    "\n",
    "# Annihilation operator for the transmon\n",
    "a = destroy(N)\n",
    "\n",
    "# Set rotating frame frequency (should be close to qubit frequencies for fast simulations)\n",
    "rotating_frame = 2*np.pi*5.0 * 1000\n",
    "\n",
    "# Qubit frequency (0->1) in MHz\n",
    "omega = 2*np.pi*5.708390 * 1000\n",
    "\n",
    "# Self-Kerr coefficient (anharmonicity) in MHz\n",
    "alpha = -2*np.pi*261.081457\n",
    "\n",
    "# Transmon Hamiltonian\n",
    "H_qubit = (omega-rotating_frame) * a.dag() * a + alpha * pow(a.dag(),2) * pow(a,2)\n",
    "\n",
    "# Drive Hamiltonian (since we have drag pulses, we need both x and y drive)\n",
    "H_drive_x = a.dag() + a\n",
    "H_drive_y = -1j*(a.dag() - a)\n",
    "\n",
    "def H_drive_coeff(t, drive_freq, y, args):\n",
    "    sigma = 0.010 # Gaussian width in μs\n",
    "    L = 0.050 # Gate time in μs\n",
    "    B = args['amp']*np.pi/0.050 # Amplitude, needs to be optimized to get perfect pi pulse or pi/2 pulse\n",
    "    q = args['qscale'] # DRAG-parameter, needs to be optimized to get no phase errors in a pi/2 pulse\n",
    "    # E(t)\n",
    "    E = B * np.exp(-pow(t-0.5*L, 2) / (2*pow(sigma,2)))\n",
    "    if y: # coefficients for H_drive_y\n",
    "        I = q * (t-0.5*L) / sigma * E\n",
    "        Q = E\n",
    "    else: # coefficients for H_drive_x\n",
    "        I = E\n",
    "        Q = q * (t-0.5*L) / sigma * E\n",
    "    return I*np.cos(drive_freq * t) + Q*np.sin(drive_freq * t) \n",
    "\n",
    "# total Hamiltonian\n",
    "H = [H_qubit,\n",
    "     [H_drive_x,lambda t,args: H_drive_coeff(t, omega-rotating_frame, False, args)],\n",
    "     [H_drive_y,lambda t,args: H_drive_coeff(t, omega-rotating_frame, True, args)]\n",
    "    ]"
   ]
  },
  {
   "cell_type": "code",
   "execution_count": 15,
   "metadata": {},
   "outputs": [],
   "source": [
    "# initial state vacuum\n",
    "vac = basis(N,0)\n",
    "\n",
    "t_total = 0.05\n",
    "\n",
    "tlist = np.linspace(0,t_total,200)\n",
    "opt = Options(nsteps=5000, atol=1e-8, rtol=1e-8)\n",
    "args = {'amp': 0.5, 'qscale': 0.5}\n",
    "result = mesolve(H, vac, tlist, [], [], options=opt, args=args)"
   ]
  },
  {
   "cell_type": "code",
   "execution_count": 17,
   "metadata": {},
   "outputs": [],
   "source": [
    "final_state = result.states[-1] # final state\n",
    "\n",
    "# unitary matrix to into transmon frame\n",
    "rotate_U = Qobj([[1,0,0],\n",
    "                 [0,np.exp(1j*(omega-rotating_frame)*t_total),0],\n",
    "                 [0,0,np.exp(1j*(omega+alpha-rotating_frame)*t_total)]])\n",
    "\n",
    "# rotated transmon state \n",
    "final_state = rotate_U*final_state\n",
    "\n",
    "# project onto qubit subspace\n",
    "qubit_state = (basis(2,0)*basis(3,0).dag() + basis(2,1)*basis(3,1).dag())*final_state\n",
    "qubit_state = qubit_state / np.sqrt( (qubit_state.dag()*qubit_state)[0,0] )\n",
    "\n",
    "# target state\n",
    "target_state = rx(np.pi/2)*basis(2,0)\n",
    "\n",
    "fid = fidelity(target_state, qubit_state)"
   ]
  }
 ],
 "metadata": {
  "kernelspec": {
   "display_name": "Python 3",
   "language": "python",
   "name": "python3"
  },
  "language_info": {
   "codemirror_mode": {
    "name": "ipython",
    "version": 3
   },
   "file_extension": ".py",
   "mimetype": "text/x-python",
   "name": "python",
   "nbconvert_exporter": "python",
   "pygments_lexer": "ipython3",
   "version": "3.7.3"
  },
  "toc": {
   "base_numbering": 1,
   "nav_menu": {},
   "number_sections": true,
   "sideBar": true,
   "skip_h1_title": false,
   "title_cell": "Table of Contents",
   "title_sidebar": "Contents",
   "toc_cell": false,
   "toc_position": {},
   "toc_section_display": true,
   "toc_window_display": false
  }
 },
 "nbformat": 4,
 "nbformat_minor": 2
}
