{
 "cells": [
  {
   "cell_type": "code",
   "execution_count": 1,
   "metadata": {},
   "outputs": [],
   "source": [
    "import numpy as np\n",
    "from qutip import *\n",
    "\n",
    "from qutip.qip.circuit import QubitCircuit, Gate\n",
    "from qutip.qip.operations import gate_sequence_product, rx\n",
    "from qutip.qip.device import *\n",
    "from qutip.qip import pulse\n",
    "\n",
    "#print(qutip.qip.device.__file__)\n",
    "\n",
    "#import qip.ethprocessor as qip\n",
    "%load_ext autoreload\n",
    "%autoreload 2"
   ]
  },
  {
   "cell_type": "code",
   "execution_count": 44,
   "metadata": {},
   "outputs": [],
   "source": [
    "# Number of qubits in the system\n",
    "N = 2\n",
    "\n",
    "# Input state\n",
    "input_states = [\"0\"]*N\n",
    "\n",
    "# A list of integers for the dimension of each composite system.\n",
    "dims = [3]*N\n",
    "\n",
    "# Representation of a quantum program/algorithm, maintaining a sequence of gates.\n",
    "qc = QubitCircuit(N = N, input_states = input_states, dims = dims, reverse_states = False)\n",
    "\n",
    "qc.add_gate(\"RX\", 0, None, np.pi, r\"-\\pi\")\n",
    "qc.add_gate(\"RX\", 0, None, np.pi, r\"-\\pi\")"
   ]
  },
  {
   "cell_type": "code",
   "execution_count": 42,
   "metadata": {},
   "outputs": [
    {
     "name": "stdout",
     "output_type": "stream",
     "text": [
      "(1, 4)\n",
      "(2, 4)\n",
      "2\n"
     ]
    }
   ],
   "source": [
    "from qutip.qip.device import DispersiveCavityQED\n",
    "from qutip.qip.device import ModelProcessor\n",
    "\n",
    "\n",
    "d = DispersiveCavityQED(N=1)\n",
    "\n",
    "d.load_circuit(qc);\n",
    "\n",
    "#d.plot_pulses()\n",
    "\n",
    "#d.run_state(init_state=basis(2, 0),qc=qc)"
   ]
  },
  {
   "cell_type": "code",
   "execution_count": 43,
   "metadata": {},
   "outputs": [
    {
     "ename": "ValueError",
     "evalue": "The row number of coeffs must be same as the number of control pulses.",
     "output_type": "error",
     "traceback": [
      "\u001b[0;31m---------------------------------------------------------------------------\u001b[0m",
      "\u001b[0;31mValueError\u001b[0m                                Traceback (most recent call last)",
      "\u001b[0;32m<ipython-input-43-853ac18aace9>\u001b[0m in \u001b[0;36m<module>\u001b[0;34m\u001b[0m\n\u001b[1;32m      9\u001b[0m \u001b[0meth\u001b[0m \u001b[0;34m=\u001b[0m \u001b[0mETHProcessor\u001b[0m\u001b[0;34m(\u001b[0m\u001b[0mN\u001b[0m \u001b[0;34m=\u001b[0m \u001b[0;36m1\u001b[0m\u001b[0;34m,\u001b[0m \u001b[0mresonance_freq\u001b[0m \u001b[0;34m=\u001b[0m \u001b[0momega\u001b[0m\u001b[0;34m,\u001b[0m \u001b[0manharmonicity\u001b[0m \u001b[0;34m=\u001b[0m \u001b[0malpha\u001b[0m\u001b[0;34m)\u001b[0m\u001b[0;34m\u001b[0m\u001b[0;34m\u001b[0m\u001b[0m\n\u001b[1;32m     10\u001b[0m \u001b[0;34m\u001b[0m\u001b[0m\n\u001b[0;32m---> 11\u001b[0;31m \u001b[0meth\u001b[0m\u001b[0;34m.\u001b[0m\u001b[0mload_circuit\u001b[0m\u001b[0;34m(\u001b[0m\u001b[0mqc\u001b[0m\u001b[0;34m)\u001b[0m\u001b[0;34m;\u001b[0m\u001b[0;34m\u001b[0m\u001b[0;34m\u001b[0m\u001b[0m\n\u001b[0m\u001b[1;32m     12\u001b[0m \u001b[0;34m\u001b[0m\u001b[0m\n\u001b[1;32m     13\u001b[0m \u001b[0meth\u001b[0m\u001b[0;34m.\u001b[0m\u001b[0mplot_pulses\u001b[0m\u001b[0;34m(\u001b[0m\u001b[0mtitle\u001b[0m\u001b[0;34m=\u001b[0m\u001b[0;34m'Hej'\u001b[0m\u001b[0;34m,\u001b[0m\u001b[0mdpi\u001b[0m\u001b[0;34m=\u001b[0m\u001b[0;36m300\u001b[0m\u001b[0;34m)\u001b[0m\u001b[0;34m\u001b[0m\u001b[0;34m\u001b[0m\u001b[0m\n",
      "\u001b[0;32m~/Google Drive/PhD/Code/Python/ETH/qip/ethprocessor.py\u001b[0m in \u001b[0;36mload_circuit\u001b[0;34m(self, qc)\u001b[0m\n\u001b[1;32m    143\u001b[0m             \u001b[0mself\u001b[0m\u001b[0;34m.\u001b[0m\u001b[0mN\u001b[0m\u001b[0;34m,\u001b[0m \u001b[0mself\u001b[0m\u001b[0;34m.\u001b[0m\u001b[0m_paras\u001b[0m\u001b[0;34m,\u001b[0m\u001b[0;34m\u001b[0m\u001b[0;34m\u001b[0m\u001b[0m\n\u001b[1;32m    144\u001b[0m             global_phase=0., num_ops=len(self.ctrls))\n\u001b[0;32m--> 145\u001b[0;31m         \u001b[0mtlist\u001b[0m\u001b[0;34m,\u001b[0m \u001b[0mself\u001b[0m\u001b[0;34m.\u001b[0m\u001b[0mcoeffs\u001b[0m\u001b[0;34m,\u001b[0m \u001b[0mself\u001b[0m\u001b[0;34m.\u001b[0m\u001b[0mglobal_phase\u001b[0m \u001b[0;34m=\u001b[0m \u001b[0mdec\u001b[0m\u001b[0;34m.\u001b[0m\u001b[0mdecompose\u001b[0m\u001b[0;34m(\u001b[0m\u001b[0mgates\u001b[0m\u001b[0;34m)\u001b[0m\u001b[0;34m\u001b[0m\u001b[0;34m\u001b[0m\u001b[0m\n\u001b[0m\u001b[1;32m    146\u001b[0m         \u001b[0;32mfor\u001b[0m \u001b[0mi\u001b[0m \u001b[0;32min\u001b[0m \u001b[0mrange\u001b[0m\u001b[0;34m(\u001b[0m\u001b[0mlen\u001b[0m\u001b[0;34m(\u001b[0m\u001b[0mself\u001b[0m\u001b[0;34m.\u001b[0m\u001b[0mpulses\u001b[0m\u001b[0;34m)\u001b[0m\u001b[0;34m)\u001b[0m\u001b[0;34m:\u001b[0m\u001b[0;34m\u001b[0m\u001b[0;34m\u001b[0m\u001b[0m\n\u001b[1;32m    147\u001b[0m             \u001b[0mself\u001b[0m\u001b[0;34m.\u001b[0m\u001b[0mpulses\u001b[0m\u001b[0;34m[\u001b[0m\u001b[0mi\u001b[0m\u001b[0;34m]\u001b[0m\u001b[0;34m.\u001b[0m\u001b[0mtlist\u001b[0m \u001b[0;34m=\u001b[0m \u001b[0mtlist\u001b[0m\u001b[0;34m[\u001b[0m\u001b[0;36m0\u001b[0m\u001b[0;34m]\u001b[0m\u001b[0;34m\u001b[0m\u001b[0;34m\u001b[0m\u001b[0m\n",
      "\u001b[0;32m~/Google Drive/PhD/Code/GitHub/qutip/qutip/qip/device/processor.py\u001b[0m in \u001b[0;36mcoeffs\u001b[0;34m(self, coeffs_list)\u001b[0m\n\u001b[1;32m    243\u001b[0m     \u001b[0;32mdef\u001b[0m \u001b[0mcoeffs\u001b[0m\u001b[0;34m(\u001b[0m\u001b[0mself\u001b[0m\u001b[0;34m,\u001b[0m \u001b[0mcoeffs_list\u001b[0m\u001b[0;34m)\u001b[0m\u001b[0;34m:\u001b[0m\u001b[0;34m\u001b[0m\u001b[0;34m\u001b[0m\u001b[0m\n\u001b[1;32m    244\u001b[0m         \u001b[0;32mif\u001b[0m \u001b[0mlen\u001b[0m\u001b[0;34m(\u001b[0m\u001b[0mcoeffs_list\u001b[0m\u001b[0;34m)\u001b[0m \u001b[0;34m!=\u001b[0m \u001b[0mlen\u001b[0m\u001b[0;34m(\u001b[0m\u001b[0mself\u001b[0m\u001b[0;34m.\u001b[0m\u001b[0mpulses\u001b[0m\u001b[0;34m)\u001b[0m\u001b[0;34m:\u001b[0m\u001b[0;34m\u001b[0m\u001b[0;34m\u001b[0m\u001b[0m\n\u001b[0;32m--> 245\u001b[0;31m             raise ValueError(\"The row number of coeffs must be same \"\n\u001b[0m\u001b[1;32m    246\u001b[0m                              \"as the number of control pulses.\")\n\u001b[1;32m    247\u001b[0m         \u001b[0;32mfor\u001b[0m \u001b[0mi\u001b[0m\u001b[0;34m,\u001b[0m \u001b[0mcoeff\u001b[0m \u001b[0;32min\u001b[0m \u001b[0menumerate\u001b[0m\u001b[0;34m(\u001b[0m\u001b[0mcoeffs_list\u001b[0m\u001b[0;34m)\u001b[0m\u001b[0;34m:\u001b[0m\u001b[0;34m\u001b[0m\u001b[0;34m\u001b[0m\u001b[0m\n",
      "\u001b[0;31mValueError\u001b[0m: The row number of coeffs must be same as the number of control pulses."
     ]
    }
   ],
   "source": [
    "from qip.ethprocessor import ETHProcessor\n",
    "import numpy as np\n",
    "\n",
    "omega = 5.708390 * 1000\n",
    "\n",
    "# Self-Kerr coefficient (anharmonicity) in MHz\n",
    "alpha = - 261.081457\n",
    "\n",
    "eth = ETHProcessor(N = 1, resonance_freq = omega, anharmonicity = alpha)\n",
    "\n",
    "eth.load_circuit(qc);\n",
    "\n",
    "eth.plot_pulses(title='Hej',dpi=300)"
   ]
  },
  {
   "cell_type": "code",
   "execution_count": 39,
   "metadata": {},
   "outputs": [],
   "source": [
    "psi0 = basis(3,0)\n",
    "result = eth.run_state(init_state=psi0, analytical=False)\n",
    "final_state = result.states[-1].tidyup(1.0e-3)"
   ]
  },
  {
   "cell_type": "code",
   "execution_count": 40,
   "metadata": {},
   "outputs": [
    {
     "name": "stdout",
     "output_type": "stream",
     "text": [
      "Fidelity = 70.1132 %\n"
     ]
    }
   ],
   "source": [
    "omega = 5.708390 * 1000 * 2*np.pi\n",
    "\n",
    "# Self-Kerr coefficient (anharmonicity) in MHz\n",
    "alpha = - 261.081457 * 2*np.pi\n",
    "\n",
    "# unitary matrix to into transmon frame\n",
    "rotate_U = Qobj([[1,0,0],\n",
    "                 [0,1,0],\n",
    "                 [0,0,np.exp(1j*(alpha)*0.05)]])\n",
    "\n",
    "#rotate_U = (1j*H_qubit*t_total).expm()\n",
    "                 \n",
    "# rotated transmon state \n",
    "final_state = rotate_U*final_state\n",
    "\n",
    "# project onto qubit subspace\n",
    "#qubit_state = (basis(2,0)*basis(3,0).dag() + basis(2,1)*basis(3,1).dag())*final_state\n",
    "qubit_state = Qobj(final_state.data[0:2], dims = [[2],[1]])\n",
    "\n",
    "# normalize qubit state\n",
    "qubit_state_norm = qubit_state / qubit_state.norm()\n",
    "\n",
    "# target state\n",
    "target_state = basis(2,1)\n",
    "\n",
    "# fidelity\n",
    "fid = fidelity(target_state, qubit_state_norm)\n",
    "print('Fidelity = %s %%' % round(fid*100,4)) # Should be close to 100 %"
   ]
  }
 ],
 "metadata": {
  "kernelspec": {
   "display_name": "Python 3",
   "language": "python",
   "name": "python3"
  },
  "language_info": {
   "codemirror_mode": {
    "name": "ipython",
    "version": 3
   },
   "file_extension": ".py",
   "mimetype": "text/x-python",
   "name": "python",
   "nbconvert_exporter": "python",
   "pygments_lexer": "ipython3",
   "version": "3.8.2"
  }
 },
 "nbformat": 4,
 "nbformat_minor": 4
}
