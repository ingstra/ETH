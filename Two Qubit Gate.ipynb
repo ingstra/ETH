{
 "cells": [
  {
   "cell_type": "code",
   "execution_count": 160,
   "metadata": {},
   "outputs": [],
   "source": [
    "from pylab import *\n",
    "import matplotlib.animation as animation \n",
    "from mpl_toolkits.mplot3d import Axes3D\n",
    "import matplotlib.pyplot as plt\n",
    "import matplotlib as mpl\n",
    "import numpy as np\n",
    "from scipy import *\n",
    "from scipy.integrate import quad\n",
    "from qutip import *"
   ]
  },
  {
   "cell_type": "markdown",
   "metadata": {},
   "source": [
    "# CZ-gate on two Qutrits"
   ]
  },
  {
   "cell_type": "markdown",
   "metadata": {},
   "source": [
    "Create annihilation and creation operators for qutrit system"
   ]
  },
  {
   "cell_type": "code",
   "execution_count": 161,
   "metadata": {},
   "outputs": [],
   "source": [
    "# energy levels\n",
    "N = 3 # Qutrit\n",
    "\n",
    "# Annihilation operators for the two qutrits\n",
    "a2 = tensor(qeye(N), destroy(N))\n",
    "a1 = tensor(destroy(N), qeye(N))"
   ]
  },
  {
   "cell_type": "markdown",
   "metadata": {},
   "source": [
    "### Qutrit parameters\n",
    "| | qb1 | qb2 |\n",
    "|:---:|:---:|:---:|\n",
    "| Frequency (GHz) | 5.708390 | 5.202204 |\n",
    "| Anharmonicty (GHz) | -0.261081457 | -0.275172227 |\n",
    "\n",
    "### Coupling parameters\n",
    "\n",
    "| | qb1-qb2 |\n",
    "|:---:|:---:|\n",
    "| Coupling (GHz) | 0.0038 |\n",
    "\n",
    "### CZ-gate parameters\n",
    "\n",
    "|    | Description | qb1-qb2 |\n",
    "|:------:|:---:|:---:|\n",
    "| $\\frac{\\omega_n}{2\\pi}$ (GHz)      | sweet spot freq. | 5.708 (Upper) |\n",
    "| $d$ | Josephson Junction asymmetry | 0.78 |\n",
    "| $C$ ($\\Phi_0$/V) | conversion constant | 0.47703297 |\n",
    "| $\\phi$ ($\\Phi_0$) | offset | 0 |\n",
    "| $a$ (V) | amplitude for CZ-gate | 1.44 |\n",
    "| $l$(ns) | length for CZ-gate | 96.00 |\n",
    "| $\\sigma$ (ns) | Gaussian filter std. | 1.00 |\n",
    "| $b$ (ns) | buffer length | 15 |"
   ]
  },
  {
   "cell_type": "code",
   "execution_count": 162,
   "metadata": {},
   "outputs": [],
   "source": [
    "# Anharmonicity in (GHz)\n",
    "alpha_2 = - 2*np.pi * 0.275172227\n",
    "alpha_1 = - 2*np.pi * 0.261081457\n",
    "\n",
    "# Qubit frequency in (GHz)\n",
    "omega_2 = 2*np.pi * 5.202204\n",
    "omega_1 = 2*np.pi * 5.708390\n",
    "\n",
    "# Coupling in (GHz)\n",
    "J = 2*pi * 3.8*1e-3\n",
    "\n",
    "# Offset (Flux quantum h/(2e)) \n",
    "phi_0 = 0\n",
    "\n",
    "# Josephson Junction asymmetry\n",
    "d = 0.78\n",
    "\n",
    "# Length of CZ gate in (ns)\n",
    "L = 96.00\n",
    "\n",
    "# Gaussian filter st.d in (ns)\n",
    "sigma = 1.00\n",
    "\n",
    "# Buffer length in (ns)\n",
    "b = 15\n",
    "\n",
    "# Conversion constant (Flux quantum / V)\n",
    "C = 0.47703297\n",
    "\n",
    "# Amplitude of square pulse in (V)\n",
    "a = 1.46"
   ]
  },
  {
   "cell_type": "markdown",
   "metadata": {},
   "source": [
    "### Prepare Hamiltonian\n",
    "The Hamiltonian of system is $H$.\n",
    "$$\n",
    "H = H_\\textrm{qubits}+H_\\textrm{coupling} = \\omega_1 a_1^\\dagger a_1 + \\frac{\\alpha_1}{2} a_1^{\\dagger 2}a_1^2 + \\omega_2 a_2^\\dagger a_2 + \\frac{\\alpha_2}{2} a_2^{\\dagger 2}a_2^2 + J(a_1^\\dagger a_2 + a_2^\\dagger a_1) \n",
    "$$"
   ]
  },
  {
   "cell_type": "code",
   "execution_count": 163,
   "metadata": {},
   "outputs": [],
   "source": [
    "# Transmon Hamiltonian\n",
    "H_qubits = omega_1 * a1.dag() * a1 + alpha_1/2 * pow(a1.dag(),2) * pow(a1,2) \\\n",
    "+ omega_2 * a2.dag() * a2 + alpha_2/2 * pow(a2.dag(),2) * pow(a2,2)\n",
    "\n",
    "# Coupling\n",
    "H_coupling = J*(a1.dag()*a2 + a2.dag()*a1)\n",
    "\n",
    "# Time independent Hamiltonian\n",
    "H = H_qubits + H_coupling"
   ]
  },
  {
   "cell_type": "markdown",
   "metadata": {},
   "source": [
    "### Two qubit gate\n",
    "The two qubit gates are performed by the pulse Hamiltonian\n",
    "$$\n",
    "H_1=-\\Delta(t)a_1^\\dagger a_1\n",
    "$$\n",
    "With\n",
    "$$\n",
    "\\Delta(t) = \\left(\\omega_1 - \\omega_1\\sqrt[4]{\\cos(\\Phi(t)+\\phi_0)^2+d^2\\sin(\\Phi(t)+\\phi_0)^2}\\right)\n",
    "$$\n",
    "With the pulse shape:\n",
    "$$\n",
    "\\Phi(t) = C\\cdot\\left(A(t)*f(t)\\right),\n",
    "$$\n",
    "\n",
    "Where $A(t)$ is a square pulse of length $l$ and amplitude $a$ and $f(t)$ is a gaussian with a mean taht is centered at the square pulse and sigma $\\sigma$."
   ]
  },
  {
   "cell_type": "code",
   "execution_count": 164,
   "metadata": {},
   "outputs": [
    {
     "data": {
      "image/png": "[encoded data removed]",
      "text/plain": [
       "<Figure size 432x288 with 1 Axes>"
      ]
     },
     "metadata": {
      "needs_background": "light"
     },
     "output_type": "display_data"
    }
   ],
   "source": [
    "# Pulse shape\n",
    "def Phi(t):\n",
    "    \n",
    "    # Square pulse of length L and amplitude a centered at (b+L/2)\n",
    "    A = a * (heaviside(t - b, 0) - heaviside(t - (L+b), 0))\n",
    "    \n",
    "    # Gaussian with mean (b+L/2) and std sigma\n",
    "    f = np.exp(-pow(t-(b+L/2),2)/(2*pow(sigma,2)))\n",
    " \n",
    "    return C * np.convolve(A, f, mode = 'same') / np.sum(f)\n",
    "\n",
    "# Flux tuning of qubit 1\n",
    "def Delta(t):\n",
    "    return omega_1 - omega_1 * pow(np.cos(Phi(t)+phi_0)**2 + d**2*np.sin(Phi(t)+phi_0)**2,1/4)\n",
    "\n",
    "# Total time in (ns)\n",
    "t_total = L + 2*b\n",
    "tlist = np.linspace(0, t_total, 1000)\n",
    "\n",
    "# Plot the frequency tuning of qubit 1 as a function of time\n",
    "fig, ax = plt.subplots()\n",
    "ax.plot(tlist, (omega_1-Delta(tlist))/(2*np.pi), color='b',label=r'$\\omega_1$') # qubit1 frequency\n",
    "ax.axhline(y = (omega_2)/(2*np.pi), color='r',label=r'$\\omega_2$') # qubit2 frequency\n",
    "\n",
    "plt.xlabel(r'time (ns)',fontsize=18)\n",
    "plt.ylabel(r'$\\omega/2\\pi$ (GHz)',fontsize=18)\n",
    "\n",
    "legend = ax.legend(loc = 'upper right', shadow=True)\n",
    "ax.legend(bbox_to_anchor = (1,1), loc=\"upper left\")\n",
    "\n",
    "plt.grid()"
   ]
  },
  {
   "cell_type": "markdown",
   "metadata": {},
   "source": [
    "### Total Hamiltonian"
   ]
  },
  {
   "cell_type": "code",
   "execution_count": 165,
   "metadata": {},
   "outputs": [],
   "source": [
    "# Time dependent Hamiltonian\n",
    "H1 = a1.dag() * a1\n",
    "H1_coeff = - Delta(tlist)\n",
    "\n",
    "H_total = QobjEvo([H, [H1, H1_coeff]], tlist = tlist)"
   ]
  },
  {
   "cell_type": "markdown",
   "metadata": {},
   "source": [
    "### Evolution of energy levels"
   ]
  },
  {
   "cell_type": "code",
   "execution_count": 166,
   "metadata": {},
   "outputs": [
    {
     "data": {
      "image/png": "[encoded data removed]",
      "text/plain": [
       "<Figure size 432x288 with 1 Axes>"
      ]
     },
     "metadata": {
      "needs_background": "light"
     },
     "output_type": "display_data"
    }
   ],
   "source": [
    "# Allocate array to memory\n",
    "E = np.zeros([N**2,len(tlist)])\n",
    "\n",
    "# Diagonalize the Hamiltonian for each time step\n",
    "for i in range(len(tlist)):\n",
    "    E[:,i] = (H + H1_coeff[i] * H1).eigenenergies()\n",
    "\n",
    "# Plot ωnm = (Enm − E00)\n",
    "fig, ax = plt.subplots()\n",
    "\n",
    "ax.plot(tlist,(E[1,:]-E[0,:])/(2*np.pi),label=r'$|01\\rangle$') # 01\n",
    "ax.plot(tlist,(E[2,:]-E[0,:])/(2*np.pi),label=r'$|10\\rangle$') # 10\n",
    "ax.plot(tlist,(E[3,:]-E[0,:])/(2*np.pi),label=r'$|02\\rangle$') # 02\n",
    "ax.plot(tlist,(E[4,:]-E[0,:])/(2*np.pi),label=r'$|11\\rangle$') # 11\n",
    "ax.plot(tlist,(E[5,:]-E[0,:])/(2*np.pi),label=r'$|20\\rangle$') # 20\n",
    "\n",
    "ax.set_ylim(10.5,11.2)\n",
    "\n",
    "plt.title(r'Flux tuning, $\\omega_1-\\Delta(t)$',fontsize=18)\n",
    "plt.xlabel(r'time (ns)',fontsize=18)\n",
    "plt.ylabel(r'$\\omega/2\\pi$ (GHz)',fontsize=18)\n",
    "\n",
    "legend = ax.legend(loc = 'upper right', shadow=True)\n",
    "ax.legend(bbox_to_anchor = (1,1), loc=\"upper left\")\n",
    "\n",
    "ax.grid(linestyle='--')\n",
    "\n",
    "plt.show()"
   ]
  },
  {
   "cell_type": "code",
   "execution_count": 167,
   "metadata": {},
   "outputs": [
    {
     "name": "stdout",
     "output_type": "stream",
     "text": [
      "E_01 = 5.202204\n",
      "E_10 = 5.70839\n",
      "E_11 = 10.910593999999998\n",
      "E_20 = 11.155698543\n",
      "E_02 = 10.129235773000001\n"
     ]
    }
   ],
   "source": [
    "# Energy levels at t = 0\n",
    "print('E_01 =',omega_2/(2*np.pi))             # 01\n",
    "print('E_10 =',omega_1/(2*np.pi))             # 10\n",
    "print('E_11 =',(omega_1+omega_2)/(2*np.pi))   # 11\n",
    "print('E_20 =',(2*omega_1+alpha_1)/(2*np.pi)) # 20\n",
    "print('E_02 =',(2*omega_2+alpha_2)/(2*np.pi)) # 02"
   ]
  },
  {
   "cell_type": "code",
   "execution_count": 168,
   "metadata": {},
   "outputs": [
    {
     "name": "stdout",
     "output_type": "stream",
     "text": [
      "E_11 = 10.670510139305016\n",
      "E_20 = 10.659758224439466\n",
      "E_02 = 10.129181892287738\n"
     ]
    }
   ],
   "source": [
    "# Energies at t=60 ns\n",
    "print('E_11 =',(E[5,500]-E[0,500])/(2*np.pi)) # 11\n",
    "print('E_20 =',(E[4,500]-E[0,500])/(2*np.pi)) # 20\n",
    "print('E_02 =',(E[3,500]-E[0,500])/(2*np.pi)) # 02"
   ]
  },
  {
   "cell_type": "code",
   "execution_count": 169,
   "metadata": {},
   "outputs": [
    {
     "data": {
      "text/plain": [
       "10.751914865549208"
      ]
     },
     "execution_count": 169,
     "metadata": {},
     "output_type": "execute_result"
    }
   ],
   "source": [
    "(E[5,500] - E[4,500])/(2*np.pi)*1000"
   ]
  },
  {
   "cell_type": "markdown",
   "metadata": {},
   "source": [
    "### State Simulation"
   ]
  },
  {
   "cell_type": "code",
   "execution_count": 170,
   "metadata": {},
   "outputs": [
    {
     "name": "stdout",
     "output_type": "stream",
     "text": [
      "10.0%. Run time:   0.09s. Est. time left: 00:00:00:00\n",
      "20.0%. Run time:   0.17s. Est. time left: 00:00:00:00\n",
      "30.0%. Run time:   0.26s. Est. time left: 00:00:00:00\n",
      "40.0%. Run time:   0.34s. Est. time left: 00:00:00:00\n",
      "50.0%. Run time:   0.42s. Est. time left: 00:00:00:00\n",
      "60.0%. Run time:   0.51s. Est. time left: 00:00:00:00\n",
      "70.0%. Run time:   0.59s. Est. time left: 00:00:00:00\n",
      "80.0%. Run time:   0.67s. Est. time left: 00:00:00:00\n",
      "90.0%. Run time:   0.75s. Est. time left: 00:00:00:00\n",
      "Total run time:   0.83s\n"
     ]
    }
   ],
   "source": [
    "# initial state |11⟩\n",
    "psi = tensor(basis(N,1),basis(N,1))\n",
    "\n",
    "# For precise calculation\n",
    "opt = Options(nsteps=2500, atol=1e-10, rtol=1e-8)\n",
    "\n",
    "# Schrödinger equation simulation\n",
    "result = mesolve(H_total, psi, tlist, [], [], options = opt, progress_bar=True)\n",
    "rho = result.states"
   ]
  },
  {
   "cell_type": "markdown",
   "metadata": {},
   "source": [
    "### Rabi oscillations"
   ]
  },
  {
   "cell_type": "code",
   "execution_count": 171,
   "metadata": {},
   "outputs": [
    {
     "data": {
      "image/png": "[encoded data removed]",
      "text/plain": [
       "<Figure size 432x288 with 1 Axes>"
      ]
     },
     "metadata": {
      "needs_background": "light"
     },
     "output_type": "display_data"
    }
   ],
   "source": [
    "exp_20 = expect(tensor(fock_dm(N,2),fock_dm(N,0)),rho) # population in |20⟩\n",
    "exp_02 = expect(tensor(fock_dm(N,0),fock_dm(N,2)),rho) # population in |02⟩\n",
    "exp_11 = expect(tensor(fock_dm(N,1),fock_dm(N,1)),rho) # population in |11⟩\n",
    "\n",
    "plt.plot(tlist, exp_02, label=r'$|02\\rangle$')\n",
    "plt.plot(tlist, exp_20, label=r'$|20\\rangle$')\n",
    "plt.plot(tlist, exp_11, label=r'$|11\\rangle$')\n",
    "\n",
    "plt.xlabel('Time ($ns$)',fontsize=16)\n",
    "plt.ylabel('Population',fontsize=16)\n",
    "\n",
    "plt.legend()\n",
    "plt.grid()"
   ]
  },
  {
   "cell_type": "markdown",
   "metadata": {},
   "source": [
    "### Rotating frame"
   ]
  },
  {
   "cell_type": "code",
   "execution_count": 157,
   "metadata": {},
   "outputs": [],
   "source": [
    "# final state\n",
    "final_state = rho[-1]\n",
    "\n",
    "# unitary transformation\n",
    "rotate_U = (1j*H_qubits*t_total).expm()\n",
    "                 \n",
    "# transmon state\n",
    "transmon_state = rotate_U*final_state"
   ]
  },
  {
   "cell_type": "markdown",
   "metadata": {},
   "source": [
    "### Fidelity"
   ]
  },
  {
   "cell_type": "code",
   "execution_count": 158,
   "metadata": {},
   "outputs": [
    {
     "name": "stdout",
     "output_type": "stream",
     "text": [
      "Fidelity = 1.0\n"
     ]
    }
   ],
   "source": [
    "# project onto qubit subspace\n",
    "qubit_state = (tensor(basis(2,0),basis(2,0))*tensor(basis(3,0),basis(3,0)).dag() \\\n",
    "               + tensor(basis(2,1),basis(2,1))*tensor(basis(3,1),basis(3,1)).dag() \\\n",
    "               + tensor(basis(2,0),basis(2,1))*tensor(basis(3,0),basis(3,1)).dag() \\\n",
    "               + tensor(basis(2,1),basis(2,0))*tensor(basis(3,1),basis(3,0)).dag())*transmon_state\n",
    "\n",
    "# normalize\n",
    "qubit_state = qubit_state / qubit_state.norm()\n",
    "\n",
    "# target state -|11⟩\n",
    "target_state = -tensor(basis(2,1),basis(2,1))\n",
    "\n",
    "# fidelity\n",
    "fid = fidelity(qubit_state,target_state)\n",
    "print('Fidelity =',round(fid,4))"
   ]
  },
  {
   "cell_type": "code",
   "execution_count": 159,
   "metadata": {},
   "outputs": [
    {
     "data": {
      "text/latex": [
       "Quantum object: dims = [[2, 2], [1, 1]], shape = (4, 1), type = ket\\begin{equation*}\\left(\\begin{array}{*{11}c}0.0\\\\0.0\\\\0.0\\\\(0.542-0.840j)\\\\\\end{array}\\right)\\end{equation*}"
      ],
      "text/plain": [
       "Quantum object: dims = [[2, 2], [1, 1]], shape = (4, 1), type = ket\n",
       "Qobj data =\n",
       "[[0.        +0.j        ]\n",
       " [0.        +0.j        ]\n",
       " [0.        +0.j        ]\n",
       " [0.54184175-0.84048053j]]"
      ]
     },
     "execution_count": 159,
     "metadata": {},
     "output_type": "execute_result"
    }
   ],
   "source": [
    "qubit_state"
   ]
  },
  {
   "cell_type": "markdown",
   "metadata": {},
   "source": [
    "### Version"
   ]
  },
  {
   "cell_type": "code",
   "execution_count": 119,
   "metadata": {},
   "outputs": [
    {
     "data": {
      "text/html": [
       "<table><tr><th>Software</th><th>Version</th></tr><tr><td>QuTiP</td><td>4.5.0.dev0+9f718cc3</td></tr><tr><td>Numpy</td><td>1.17.3</td></tr><tr><td>SciPy</td><td>1.3.2</td></tr><tr><td>matplotlib</td><td>3.1.2</td></tr><tr><td>Cython</td><td>0.29.14</td></tr><tr><td>Number of CPUs</td><td>6</td></tr><tr><td>BLAS Info</td><td>Generic</td></tr><tr><td>IPython</td><td>7.10.1</td></tr><tr><td>Python</td><td>3.8.0 | packaged by conda-forge | (default, Nov 22 2019, 19:11:19) \n",
       "[Clang 9.0.0 (tags/RELEASE_900/final)]</td></tr><tr><td>OS</td><td>posix [darwin]</td></tr><tr><td colspan='2'>Tue Jan 28 09:43:39 2020 CET</td></tr></table>"
      ],
      "text/plain": [
       "<IPython.core.display.HTML object>"
      ]
     },
     "execution_count": 119,
     "metadata": {},
     "output_type": "execute_result"
    }
   ],
   "source": [
    "import qutip.ipynbtools\n",
    "qutip.ipynbtools.version_table()"
   ]
  }
 ],
 "metadata": {
  "kernelspec": {
   "display_name": "Python 3",
   "language": "python",
   "name": "python3"
  },
  "language_info": {
   "codemirror_mode": {
    "name": "ipython",
    "version": 3
   },
   "file_extension": ".py",
   "mimetype": "text/x-python",
   "name": "python",
   "nbconvert_exporter": "python",
   "pygments_lexer": "ipython3",
   "version": "3.8.0"
  }
 },
 "nbformat": 4,
 "nbformat_minor": 2
}
