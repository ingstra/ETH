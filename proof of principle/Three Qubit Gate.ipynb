{
 "cells": [
  {
   "cell_type": "code",
   "execution_count": 1,
   "metadata": {},
   "outputs": [],
   "source": [
    "import matplotlib.pyplot as plt\n",
    "import matplotlib as mpl\n",
    "import numpy as np\n",
    "from qutip import *"
   ]
  },
  {
   "cell_type": "code",
   "execution_count": 2,
   "metadata": {},
   "outputs": [],
   "source": [
    "# energy levels\n",
    "N = 3 # Qutrit\n",
    "\n",
    "# Annihilation operators for the three qutrits\n",
    "a3 = tensor(qeye(N), qeye(N), destroy(N))\n",
    "a2 = tensor(qeye(N), destroy(N), qeye(N))\n",
    "a1 = tensor(destroy(N), qeye(N), qeye(N))"
   ]
  },
  {
   "cell_type": "markdown",
   "metadata": {},
   "source": [
    "### Qutrit parameters\n",
    "| | qb1 | qb2 | qb3 |\n",
    "|:---:|:---:|:---:|:---:|\n",
    "| Frequency (GHz) | 5.708390 | 5.202204 | 5.202204 |\n",
    "| Anharmonicty (GHz) | -0.261081457 | -0.275172227 | -0.275172227 |\n",
    "\n",
    "### Coupling parameters\n",
    "\n",
    "| | qb1-qb2 | qb1-qb3 | qb2-qb3 |\n",
    "|:---:|:---:|:---:|:---:| \n",
    "| Coupling (GHz) | 0.0038 | 0.0038 | 0.0038 |\n",
    "\n",
    "### Fredkin-gate parameters\n",
    "\n",
    "|    | Description | qb1-qb2 |\n",
    "|:------:|:---:|:---:|\n",
    "| $\\frac{\\omega_n}{2\\pi}$ (GHz)      | sweet spot freq. | 5.708 (Upper) |\n",
    "| $d$ | Josephson Junction asymmetry | 0.78 |\n",
    "| $C$ ($\\Phi_0$/V) | conversion constant | 0.47703297 |\n",
    "| $\\phi$ ($\\Phi_0$) | offset | 0 |\n",
    "| $a$ (V) | amplitude for CZ-gate | 1.44 |\n",
    "| $l$(ns) | length for CZ-gate | 96.00 |\n",
    "| $\\sigma$ (ns) | Gaussian filter std. | 1.00 |\n",
    "| $b$ (ns) | buffer length | 15 |"
   ]
  },
  {
   "cell_type": "code",
   "execution_count": 4,
   "metadata": {},
   "outputs": [],
   "source": [
    "pi = np.pi\n",
    "\n",
    "# Anharmonicity in (GHz)\n",
    "alpha_3 = - 2*pi * 0.275172227\n",
    "alpha_2 = - 2*pi * 0.275172227\n",
    "alpha_1 = - 2*pi * 0.261081457\n",
    "\n",
    "# Qubit frequency in (GHz)\n",
    "omega_3 = 2*pi * 5.202204\n",
    "omega_2 = 2*pi * 5.202204\n",
    "omega_1 = 2*pi * 5.708390\n",
    "\n",
    "# Coupling in (GHz)\n",
    "J_23 = 2*pi * 3.8*1e-3 \n",
    "J_13 = 2*pi * 3.8*1e-3\n",
    "J_12 = 2*pi * 3.8*1e-3\n",
    "\n",
    "# Offset (Flux quantum h/(2e)) \n",
    "phi_0 = 0\n",
    "\n",
    "# Josephson Junction asymmetry\n",
    "d = 0.78\n",
    "\n",
    "# Length of CZ gate in (ns)\n",
    "L = 96.00\n",
    "\n",
    "# Gaussian filter st.d in (ns)\n",
    "sigma = 1.00\n",
    "\n",
    "# Buffer length in (ns)\n",
    "b = 15\n",
    "\n",
    "# Conversion constant (Flux quantum / V)\n",
    "C = 0.47703297\n",
    "\n",
    "# Amplitude of square pulse in (V)\n",
    "a = 1.46"
   ]
  },
  {
   "cell_type": "markdown",
   "metadata": {},
   "source": [
    "### Prepare Hamiltonian\n",
    "The Hamiltonian of system is $H$.\n",
    "$$\n",
    "H = H_\\textrm{qubits}+H_\\textrm{coupling} = \\omega_1 a_1^\\dagger a_1 + \\frac{\\alpha_1}{2} a_1^{\\dagger 2}a_1^2 + \\omega_2 a_2^\\dagger a_2 + \\frac{\\alpha_2}{2} a_2^{\\dagger 2}a_2^2 + \\omega_3 a_3^\\dagger a_3 + \\frac{\\alpha_3}{2} a_3^{\\dagger 2}a_3^2 + J_{12}(a_1^\\dagger a_2 + a_2^\\dagger a_1) + J_{13}(a_1^\\dagger a_3 + a_3^\\dagger a_1) + J_{23}(a_2^\\dagger a_3 + a_3^\\dagger a_2) \n",
    "$$"
   ]
  },
  {
   "cell_type": "code",
   "execution_count": 6,
   "metadata": {},
   "outputs": [],
   "source": [
    "# Transmon Hamiltonian\n",
    "H_qubits = omega_1 * a1.dag() * a1 + alpha_1/2 * pow(a1.dag(),2) * pow(a1,2) \\\n",
    "+ omega_2 * a2.dag() * a2 + alpha_2/2 * pow(a2.dag(),2) * pow(a2,2) \\\n",
    "+ omega_3 * a3.dag() * a3 + alpha_3/2 * pow(a3.dag(),2) * pow(a3,2)\n",
    "\n",
    "# Coupling\n",
    "H_coupling = J_12*(a1.dag()*a2 + a2.dag()*a1) + J_13*(a1.dag()*a3 + a3.dag()*a1) + J_23*(a2.dag()*a3 + a3.dag()*a2)\n",
    "\n",
    "# Time independent Hamiltonian\n",
    "H = H_qubits + H_coupling"
   ]
  }
 ],
 "metadata": {
  "kernelspec": {
   "display_name": "Python 3",
   "language": "python",
   "name": "python3"
  },
  "language_info": {
   "codemirror_mode": {
    "name": "ipython",
    "version": 3
   },
   "file_extension": ".py",
   "mimetype": "text/x-python",
   "name": "python",
   "nbconvert_exporter": "python",
   "pygments_lexer": "ipython3",
   "version": "3.8.2"
  }
 },
 "nbformat": 4,
 "nbformat_minor": 4
}
