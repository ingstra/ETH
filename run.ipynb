{
 "cells": [
  {
   "cell_type": "markdown",
   "metadata": {},
   "source": [
    "http://qutip.org/docs/latest/guide/guide-qip.html"
   ]
  },
  {
   "cell_type": "code",
   "execution_count": 1,
   "metadata": {},
   "outputs": [],
   "source": [
    "import numpy as np\n",
    "from qutip import *\n",
    "\n",
    "from qutip.qip.circuit import QubitCircuit, Gate\n",
    "from qutip.qip.operations import gate_sequence_product, rx\n",
    "from qutip.qip.device import *\n",
    "from qutip.qip import pulse\n",
    "\n",
    "#print(qutip.qip.device__file__)\n",
    "\n",
    "#import qip.ethprocessor as qip"
   ]
  },
  {
   "cell_type": "markdown",
   "metadata": {},
   "source": [
    "### Create a quantum circuit"
   ]
  },
  {
   "cell_type": "code",
   "execution_count": 13,
   "metadata": {},
   "outputs": [],
   "source": [
    "# Number of qubits in the system\n",
    "N = 1\n",
    "\n",
    "# Input state\n",
    "input_states = [\"0\"]*N\n",
    "\n",
    "# A list of integers for the dimension of each composite system.\n",
    "dims = [3]*N\n",
    "\n",
    "# Representation of a quantum program/algorithm, maintaining a sequence of gates.\n",
    "qc = QubitCircuit(N = N, input_states = input_states, dims = dims, reverse_states = False)\n",
    "\n",
    "qc.add_gate(\"RX\", 0, None, np.pi, r\"-\\pi\")"
   ]
  },
  {
   "cell_type": "markdown",
   "metadata": {},
   "source": [
    "### Draw quantum circuit"
   ]
  },
  {
   "cell_type": "code",
   "execution_count": 14,
   "metadata": {},
   "outputs": [
    {
     "data": {
      "image/png": "[encoded data removed]",
      "text/plain": [
       "<IPython.core.display.Image object>"
      ]
     },
     "execution_count": 14,
     "metadata": {},
     "output_type": "execute_result"
    }
   ],
   "source": [
    "qc.png"
   ]
  },
  {
   "cell_type": "markdown",
   "metadata": {},
   "source": [
    "### Propagator"
   ]
  },
  {
   "cell_type": "code",
   "execution_count": 15,
   "metadata": {},
   "outputs": [
    {
     "data": {
      "text/latex": [
       "Quantum object: dims = [[2], [2]], shape = (2, 2), type = oper, isherm = False\\begin{equation*}\\left(\\begin{array}{*{11}c}0.0 & -1.0j\\\\-1.0j & 0.0\\\\\\end{array}\\right)\\end{equation*}"
      ],
      "text/plain": [
       "Quantum object: dims = [[2], [2]], shape = (2, 2), type = oper, isherm = False\n",
       "Qobj data =\n",
       "[[0.+0.j 0.-1.j]\n",
       " [0.-1.j 0.+0.j]]"
      ]
     },
     "execution_count": 15,
     "metadata": {},
     "output_type": "execute_result"
    }
   ],
   "source": [
    "U_ideal = gate_sequence_product(qc.propagators())\n",
    "U_ideal"
   ]
  },
  {
   "cell_type": "code",
   "execution_count": 16,
   "metadata": {},
   "outputs": [
    {
     "data": {
      "text/latex": [
       "Quantum object: dims = [[2], [2]], shape = (2, 2), type = oper, isherm = False\\begin{equation*}\\left(\\begin{array}{*{11}c}0.0 & -1.0j\\\\-1.0j & 0.0\\\\\\end{array}\\right)\\end{equation*}"
      ],
      "text/plain": [
       "Quantum object: dims = [[2], [2]], shape = (2, 2), type = oper, isherm = False\n",
       "Qobj data =\n",
       "[[0.+0.j 0.-1.j]\n",
       " [0.-1.j 0.+0.j]]"
      ]
     },
     "execution_count": 16,
     "metadata": {},
     "output_type": "execute_result"
    }
   ],
   "source": [
    "prop = qc.propagators()\n",
    "prop[0]"
   ]
  },
  {
   "cell_type": "code",
   "execution_count": 17,
   "metadata": {},
   "outputs": [],
   "source": [
    "# energy levels\n",
    "N = 3 # Qutrit\n",
    "\n",
    "# Annihilation operator for the transmon\n",
    "a = destroy(N)\n",
    "\n",
    "# Qubit frequency (0->1) in MHz\n",
    "omega = 2*np.pi*5.708390 * 1000\n",
    "\n",
    "# Drive frequency in MHz\n",
    "omega_drive = omega\n",
    "\n",
    "# Self-Kerr coefficient (anharmonicity) in MHz\n",
    "alpha = - 2*np.pi*261.081457\n",
    "\n",
    "# Set rotating frame frequency (should be close to qubit frequencies for fast simulations)\n",
    "rotating_frame = omega_drive #2*np.pi*5.0 * 1000\n",
    "\n",
    "# Transmon Hamiltonian in rotating frame\n",
    "H_qubit = (omega-rotating_frame) * a.dag() * a + alpha / 2 * pow(a.dag(),2) * pow(a,2)\n",
    "\n",
    "# Drive Hamiltonian (since we have drag pulses, we need both x and y drive)\n",
    "H_drive_x = a.dag() + a\n",
    "H_drive_y = 1j*(a.dag() - a)\n",
    "\n",
    "# Gaussian width in μs\n",
    "sigma = 0.010 # = 10 ns\n",
    "\n",
    "# Gate time in μs\n",
    "L = 0.050 # = 50 ns\n",
    "\n",
    "def H_drive_coeff_x(t, args):\n",
    "    \n",
    "    # Amplitude, needs to be optimized to get perfect pi pulse or pi/2 pulse\n",
    "    B = args['amp']\n",
    "    \n",
    "    # DRAG-parameter, needs to be optimized to get no phase errors in a pi/2 pulse\n",
    "    q = args['qscale']\n",
    "    \n",
    "    drive_freq = args['freq']\n",
    "    \n",
    "    # E(t)\n",
    "    E = B * np.exp(-pow(t-0.5*L, 2) / (2*pow(sigma,2)))\n",
    "    \n",
    "    I = E\n",
    "    Q = q * (t-0.5*L) / sigma * E # dE/dt\n",
    "    return I*np.cos(drive_freq * t) + Q*np.sin(drive_freq * t)\n",
    "\n",
    "def H_drive_coeff_y(t, args):\n",
    "    \n",
    "    # Amplitude, needs to be optimized to get perfect pi pulse or pi/2 pulse\n",
    "    B = args['amp']\n",
    "    \n",
    "    # DRAG-parameter, needs to be optimized to get no phase errors in a pi/2 pulse\n",
    "    q = args['qscale']\n",
    "    \n",
    "    drive_freq = args['freq']\n",
    "    \n",
    "    # E(t)\n",
    "    E = B * np.exp(-pow(t-0.5*L, 2) / (2*pow(sigma,2)))\n",
    "    \n",
    "    I = E\n",
    "    Q = -q * (t-0.5*L) / sigma * E # dE/dt\n",
    "    return Q*np.cos(drive_freq * t) + I*np.sin(drive_freq * t)\n",
    "\n",
    "# total Hamiltonian\n",
    "H = [H_qubit,\n",
    "     [H_drive_x,H_drive_coeff_x],\n",
    "     [H_drive_y,H_drive_coeff_y],  \n",
    "    ]"
   ]
  },
  {
   "cell_type": "markdown",
   "metadata": {},
   "source": [
    "## Find the amplitude that corresponds to a $\\pi$-pulse"
   ]
  },
  {
   "cell_type": "code",
   "execution_count": 18,
   "metadata": {},
   "outputs": [
    {
     "name": "stdout",
     "output_type": "stream",
     "text": [
      "Amplitude = 63.45380720748712\n"
     ]
    }
   ],
   "source": [
    "# Total time in μs\n",
    "t_total = L\n",
    "tlist = np.linspace(0,t_total,500)\n",
    "\n",
    "args = {'amp': 1, 'qscale': 0.018, 'freq': (rotating_frame - omega_drive)}\n",
    "\n",
    "# in-phase component\n",
    "I = H_drive_coeff_x(tlist, args)\n",
    "# out of-phase component\n",
    "Q = H_drive_coeff_y(tlist, args)\n",
    "\n",
    "# Integrate along the given time-axis using the composite trapezoidal rule\n",
    "B = np.pi/(2*np.abs(np.trapz(I + 1j*Q, x=tlist)))\n",
    "print('Amplitude =',B)"
   ]
  },
  {
   "cell_type": "code",
   "execution_count": 19,
   "metadata": {},
   "outputs": [],
   "source": [
    "args = {'amp': B, 'qscale': 0.032, 'freq': (rotating_frame - omega_drive)}\n",
    "# in-phase component\n",
    "I = H_drive_coeff_x(tlist, args)\n",
    "# out of-phase component\n",
    "Q = H_drive_coeff_y(tlist, args)"
   ]
  },
  {
   "cell_type": "code",
   "execution_count": 20,
   "metadata": {},
   "outputs": [],
   "source": [
    "from qutip.qip.device import Processor\n",
    "proc = Processor(N=1, dims = [3], spline_kind = \"cubic\")\n",
    "\n",
    "proc.add_control(H_drive_x, targets = 0, cyclic_permutation = True, label=\"I\")\n",
    "proc.add_control(H_drive_y, targets = 0, cyclic_permutation = True, label=\"Q\")"
   ]
  },
  {
   "cell_type": "code",
   "execution_count": 21,
   "metadata": {},
   "outputs": [
    {
     "data": {
      "image/png": "[encoded data removed]",
      "text/plain": [
       "<Figure size 432x288 with 1 Axes>"
      ]
     },
     "metadata": {
      "needs_background": "light"
     },
     "output_type": "display_data"
    }
   ],
   "source": [
    "from qutip.qip.device import Processor\n",
    "proc = Processor(N=1, dims = [3], spline_kind = \"cubic\")\n",
    "\n",
    "proc.add_control(H_drive_x, targets = 0, cyclic_permutation = True, label=\"I\")\n",
    "proc.add_control(H_drive_y, targets = 0, cyclic_permutation = True, label=\"Q\")\n",
    "\n",
    "# the intrinsic evolution of the quantum system\n",
    "proc.add_drift(H_qubit, targets = 0, cyclic_permutation = True)\n",
    "\n",
    "proc.pulses[0].coeff = np.array(I)\n",
    "proc.pulses[0].tlist = np.array(tlist)\n",
    "proc.pulses[1].coeff = np.array(Q)\n",
    "proc.pulses[1].tlist = np.array(tlist)\n",
    "\n",
    "#for pulse in proc.pulses:\n",
    "#    pulse.print_info()\n",
    "proc.plot_pulses();"
   ]
  },
  {
   "cell_type": "code",
   "execution_count": 22,
   "metadata": {},
   "outputs": [],
   "source": [
    "basis0 = basis(3, 0)\n",
    "result = proc.run_state(init_state = basis0)\n",
    "final_state = result.states[-1]"
   ]
  },
  {
   "cell_type": "code",
   "execution_count": 25,
   "metadata": {},
   "outputs": [
    {
     "name": "stdout",
     "output_type": "stream",
     "text": [
      "Fidelity = 100.0 %\n"
     ]
    }
   ],
   "source": [
    "# unitary matrix to into transmon frame\n",
    "rotate_U = Qobj([[1,0,0],\n",
    "                 [0,np.exp(1j*(omega-rotating_frame)*t_total),0],\n",
    "                 [0,0,np.exp(1j*(omega+alpha-rotating_frame)*t_total)]])\n",
    "\n",
    "#rotate_U = (1j*H_qubit*t_total).expm()\n",
    "                 \n",
    "# rotated transmon state \n",
    "final_state = rotate_U*final_state\n",
    "\n",
    "# project onto qubit subspace\n",
    "#qubit_state = (basis(2,0)*basis(3,0).dag() + basis(2,1)*basis(3,1).dag())*final_state\n",
    "qubit_state = Qobj(final_state.data[0:2], dims = [[2],[1]])\n",
    "\n",
    "# normalize qubit state\n",
    "qubit_state_norm = qubit_state / qubit_state.norm()\n",
    "\n",
    "# target state\n",
    "target_state = basis(2,1)\n",
    "\n",
    "# fidelity\n",
    "fid = fidelity(target_state, qubit_state_norm)\n",
    "print('Fidelity = %s %%' % round(fid*100,4)) # Should be close to 100 %"
   ]
  },
  {
   "cell_type": "code",
   "execution_count": 26,
   "metadata": {},
   "outputs": [
    {
     "data": {
      "text/latex": [
       "Quantum object: dims = [[2], [1]], shape = (2, 1), type = ket\\begin{equation*}\\left(\\begin{array}{*{11}c}0.0\\\\(-0.043-0.999j)\\\\\\end{array}\\right)\\end{equation*}"
      ],
      "text/plain": [
       "Quantum object: dims = [[2], [1]], shape = (2, 1), type = ket\n",
       "Qobj data =\n",
       "[[ 0.       +0.j        ]\n",
       " [-0.0434459-0.99905554j]]"
      ]
     },
     "execution_count": 26,
     "metadata": {},
     "output_type": "execute_result"
    }
   ],
   "source": [
    "qubit_state_norm.tidyup(1.0e-3)"
   ]
  },
  {
   "cell_type": "code",
   "execution_count": null,
   "metadata": {},
   "outputs": [],
   "source": [
    "tensor(destroy(2))"
   ]
  },
  {
   "cell_type": "code",
   "execution_count": null,
   "metadata": {},
   "outputs": [],
   "source": [
    "destroy(4)"
   ]
  },
  {
   "cell_type": "code",
   "execution_count": null,
   "metadata": {},
   "outputs": [],
   "source": []
  }
 ],
 "metadata": {
  "kernelspec": {
   "display_name": "Python 3",
   "language": "python",
   "name": "python3"
  },
  "language_info": {
   "codemirror_mode": {
    "name": "ipython",
    "version": 3
   },
   "file_extension": ".py",
   "mimetype": "text/x-python",
   "name": "python",
   "nbconvert_exporter": "python",
   "pygments_lexer": "ipython3",
   "version": "3.8.2"
  }
 },
 "nbformat": 4,
 "nbformat_minor": 4
}
