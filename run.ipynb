{
 "cells": [
  {
   "cell_type": "code",
   "execution_count": null,
   "metadata": {},
   "outputs": [],
   "source": [
    "from QuantumCircuit import *\n",
    "\n",
    "# Qubit frequency in (GHz)\n",
    "omega_1 = 2*np.pi * 5.708390\n",
    "omega_2 = 2*np.pi * 5.202204\n",
    "\n",
    "# Anharmonicity in (GHz)\n",
    "alpha_1 = - 2*np.pi * 0.261081457\n",
    "alpha_2 = - 2*np.pi * 0.275172227\n",
    "\n",
    "# Longitudinal decoherence in (ns)\n",
    "T1_1 = 25.111199 * 1e3\n",
    "T1_2 = 17.987260 * 1e3\n",
    "\n",
    "# Transveral decoherence in (ns)\n",
    "T2_1 = 23.872090 * 1e3\n",
    "T2_2 = 10.778744 * 1e3\n",
    "\n",
    "# Construct Qubit Objects\n",
    "q1 = Qubit(omega_1, alpha_1, T1_1, T2_1)\n",
    "q2 = Qubit(omega_2, alpha_2, T1_2, T2_2)\n",
    "\n",
    "# Coupling in (GHz)\n",
    "J = 2*np.pi * 3.8*1e-3\n",
    "\n",
    "# cpl_map[[i, j], [k, l]]: i-th (k-th) and j-th (l-th) qubits are coupled\n",
    "cpl_map = [[0, 1]]\n",
    "\n",
    "# cpl_list[i]: coupling strength of i-th couple (defined by cpl_map)\n",
    "cpl_list = [J]\n",
    "\n",
    "# Create Quantum Circuit\n",
    "qc = QuantumCircuit([q1, q2],cpl_map=cpl_map,cpl=cpl_list)\n",
    "\n",
    "# Do a Rx gate on the first qubit\n",
    "qc.rx(0,np.pi)\n",
    "\n",
    "# Do a CZ gate between the first and second qubit\n",
    "qc.cz(0,1)\n",
    "\n",
    "qc.state_vector()\n",
    "\n",
    "# Simulate the circuit\n",
    "result = run(qc)"
   ]
  }
 ],
 "metadata": {
  "kernelspec": {
   "display_name": "Python 3",
   "language": "python",
   "name": "python3"
  },
  "language_info": {
   "codemirror_mode": {
    "name": "ipython",
    "version": 3
   },
   "file_extension": ".py",
   "mimetype": "text/x-python",
   "name": "python",
   "nbconvert_exporter": "python",
   "pygments_lexer": "ipython3",
   "version": "3.8.1"
  }
 },
 "nbformat": 4,
 "nbformat_minor": 4
}
